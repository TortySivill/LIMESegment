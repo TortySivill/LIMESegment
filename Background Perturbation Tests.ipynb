{
 "cells": [
  {
   "cell_type": "code",
   "execution_count": 16,
   "id": "dd9bd814",
   "metadata": {},
   "outputs": [],
   "source": [
    "import numpy as np\n",
    "import matplotlib.pyplot as plt\n",
    "from perturbations import RBPIndividual, zeroPerturb, noisePerturb, blurPerturb\n",
    "from models import *\n",
    "from data import perturb, generateSynthetic, generateSyntheticPerturbReal\n"
   ]
  },
  {
   "cell_type": "code",
   "execution_count": 17,
   "id": "bc70e458",
   "metadata": {},
   "outputs": [],
   "source": [
    "# Test Important Content Removal"
   ]
  },
  {
   "cell_type": "code",
   "execution_count": 31,
   "id": "812c0d59",
   "metadata": {},
   "outputs": [],
   "source": [
    "x_train, y_train, x_test_original, y_test_original = generateSynthetic('perturb',500,50)"
   ]
  },
  {
   "cell_type": "code",
   "execution_count": 32,
   "id": "c9911722",
   "metadata": {},
   "outputs": [
    {
     "name": "stdout",
     "output_type": "stream",
     "text": [
      "Epoch 1/100\n",
      "13/13 [==============================] - 4s 208ms/step - loss: 0.5999 - sparse_categorical_accuracy: 0.7325 - val_loss: 0.6810 - val_sparse_categorical_accuracy: 0.4950\n",
      "Epoch 2/100\n",
      "13/13 [==============================] - 2s 183ms/step - loss: 0.4463 - sparse_categorical_accuracy: 0.9237 - val_loss: 0.7081 - val_sparse_categorical_accuracy: 0.4950\n",
      "Epoch 3/100\n",
      "13/13 [==============================] - 2s 183ms/step - loss: 0.3780 - sparse_categorical_accuracy: 0.9438 - val_loss: 0.7645 - val_sparse_categorical_accuracy: 0.4950\n",
      "Epoch 4/100\n",
      "13/13 [==============================] - 2s 173ms/step - loss: 0.3317 - sparse_categorical_accuracy: 0.9438 - val_loss: 0.7671 - val_sparse_categorical_accuracy: 0.4950\n",
      "Epoch 5/100\n",
      "13/13 [==============================] - 2s 179ms/step - loss: 0.3004 - sparse_categorical_accuracy: 0.9525 - val_loss: 0.7910 - val_sparse_categorical_accuracy: 0.4950\n",
      "Epoch 6/100\n",
      "13/13 [==============================] - 2s 177ms/step - loss: 0.2757 - sparse_categorical_accuracy: 0.9625 - val_loss: 0.7836 - val_sparse_categorical_accuracy: 0.4950\n",
      "Epoch 7/100\n",
      "13/13 [==============================] - 3s 207ms/step - loss: 0.2560 - sparse_categorical_accuracy: 0.9625 - val_loss: 0.7810 - val_sparse_categorical_accuracy: 0.4950\n",
      "Epoch 8/100\n",
      "13/13 [==============================] - 2s 182ms/step - loss: 0.2390 - sparse_categorical_accuracy: 0.9638 - val_loss: 0.8174 - val_sparse_categorical_accuracy: 0.4950\n",
      "Epoch 9/100\n",
      "13/13 [==============================] - 2s 179ms/step - loss: 0.2252 - sparse_categorical_accuracy: 0.9663 - val_loss: 0.8147 - val_sparse_categorical_accuracy: 0.4950\n",
      "Epoch 10/100\n",
      "13/13 [==============================] - 2s 176ms/step - loss: 0.2171 - sparse_categorical_accuracy: 0.9650 - val_loss: 0.7567 - val_sparse_categorical_accuracy: 0.4950\n",
      "Epoch 11/100\n",
      "13/13 [==============================] - 2s 178ms/step - loss: 0.2088 - sparse_categorical_accuracy: 0.9613 - val_loss: 0.8886 - val_sparse_categorical_accuracy: 0.4950\n",
      "Epoch 12/100\n",
      "13/13 [==============================] - 2s 180ms/step - loss: 0.2011 - sparse_categorical_accuracy: 0.9638 - val_loss: 0.8033 - val_sparse_categorical_accuracy: 0.4950\n",
      "Epoch 13/100\n",
      "13/13 [==============================] - 2s 180ms/step - loss: 0.1908 - sparse_categorical_accuracy: 0.9688 - val_loss: 1.0608 - val_sparse_categorical_accuracy: 0.4950\n",
      "Epoch 14/100\n",
      "13/13 [==============================] - 2s 175ms/step - loss: 0.1758 - sparse_categorical_accuracy: 0.9712 - val_loss: 0.9421 - val_sparse_categorical_accuracy: 0.4950\n",
      "Epoch 15/100\n",
      "13/13 [==============================] - 2s 188ms/step - loss: 0.1731 - sparse_categorical_accuracy: 0.9725 - val_loss: 1.1169 - val_sparse_categorical_accuracy: 0.4950\n",
      "Epoch 16/100\n",
      "13/13 [==============================] - 2s 184ms/step - loss: 0.1793 - sparse_categorical_accuracy: 0.9650 - val_loss: 1.1199 - val_sparse_categorical_accuracy: 0.4950\n",
      "Epoch 17/100\n",
      "13/13 [==============================] - 2s 180ms/step - loss: 0.1557 - sparse_categorical_accuracy: 0.9775 - val_loss: 1.1920 - val_sparse_categorical_accuracy: 0.4950\n",
      "Epoch 18/100\n",
      "13/13 [==============================] - 3s 205ms/step - loss: 0.1604 - sparse_categorical_accuracy: 0.9675 - val_loss: 1.0633 - val_sparse_categorical_accuracy: 0.4950\n",
      "Epoch 19/100\n",
      "13/13 [==============================] - 2s 177ms/step - loss: 0.1678 - sparse_categorical_accuracy: 0.9638 - val_loss: 0.8917 - val_sparse_categorical_accuracy: 0.4950\n",
      "Epoch 20/100\n",
      "13/13 [==============================] - 2s 177ms/step - loss: 0.1462 - sparse_categorical_accuracy: 0.9812 - val_loss: 1.4006 - val_sparse_categorical_accuracy: 0.4950\n",
      "Epoch 21/100\n",
      "13/13 [==============================] - 2s 175ms/step - loss: 0.1459 - sparse_categorical_accuracy: 0.9762 - val_loss: 1.2717 - val_sparse_categorical_accuracy: 0.4950\n",
      "Epoch 22/100\n",
      "13/13 [==============================] - 2s 178ms/step - loss: 0.1308 - sparse_categorical_accuracy: 0.9812 - val_loss: 1.3911 - val_sparse_categorical_accuracy: 0.4950\n",
      "Epoch 23/100\n",
      "13/13 [==============================] - 2s 179ms/step - loss: 0.1294 - sparse_categorical_accuracy: 0.9825 - val_loss: 1.3803 - val_sparse_categorical_accuracy: 0.4950\n",
      "Epoch 24/100\n",
      "13/13 [==============================] - 2s 187ms/step - loss: 0.1296 - sparse_categorical_accuracy: 0.9800 - val_loss: 1.2107 - val_sparse_categorical_accuracy: 0.4950\n",
      "Epoch 25/100\n",
      "13/13 [==============================] - 3s 199ms/step - loss: 0.1272 - sparse_categorical_accuracy: 0.9825 - val_loss: 1.4968 - val_sparse_categorical_accuracy: 0.4950\n",
      "Epoch 26/100\n",
      "13/13 [==============================] - 2s 179ms/step - loss: 0.1217 - sparse_categorical_accuracy: 0.9787 - val_loss: 1.4787 - val_sparse_categorical_accuracy: 0.4950\n",
      "Epoch 27/100\n",
      "13/13 [==============================] - 2s 181ms/step - loss: 0.1120 - sparse_categorical_accuracy: 0.9875 - val_loss: 1.0499 - val_sparse_categorical_accuracy: 0.5000\n",
      "Epoch 28/100\n",
      "13/13 [==============================] - 2s 182ms/step - loss: 0.1222 - sparse_categorical_accuracy: 0.9812 - val_loss: 1.2937 - val_sparse_categorical_accuracy: 0.5000\n",
      "Epoch 29/100\n",
      "13/13 [==============================] - 2s 178ms/step - loss: 0.1116 - sparse_categorical_accuracy: 0.9825 - val_loss: 1.3155 - val_sparse_categorical_accuracy: 0.5000\n",
      "Epoch 30/100\n",
      "13/13 [==============================] - 3s 190ms/step - loss: 0.1064 - sparse_categorical_accuracy: 0.9837 - val_loss: 0.6852 - val_sparse_categorical_accuracy: 0.5900\n",
      "Epoch 31/100\n",
      "13/13 [==============================] - 2s 180ms/step - loss: 0.1096 - sparse_categorical_accuracy: 0.9825 - val_loss: 0.7648 - val_sparse_categorical_accuracy: 0.5600\n",
      "Epoch 32/100\n",
      "13/13 [==============================] - 2s 177ms/step - loss: 0.1020 - sparse_categorical_accuracy: 0.9825 - val_loss: 0.6528 - val_sparse_categorical_accuracy: 0.6300\n",
      "Epoch 33/100\n",
      "13/13 [==============================] - 3s 201ms/step - loss: 0.0987 - sparse_categorical_accuracy: 0.9837 - val_loss: 0.5533 - val_sparse_categorical_accuracy: 0.6800\n",
      "Epoch 34/100\n",
      "13/13 [==============================] - 2s 182ms/step - loss: 0.1034 - sparse_categorical_accuracy: 0.9875 - val_loss: 0.7988 - val_sparse_categorical_accuracy: 0.6050\n",
      "Epoch 35/100\n",
      "13/13 [==============================] - 2s 183ms/step - loss: 0.1015 - sparse_categorical_accuracy: 0.9812 - val_loss: 0.1995 - val_sparse_categorical_accuracy: 0.9300\n",
      "Epoch 36/100\n",
      "13/13 [==============================] - 3s 191ms/step - loss: 0.1003 - sparse_categorical_accuracy: 0.9862 - val_loss: 0.4087 - val_sparse_categorical_accuracy: 0.7800\n",
      "Epoch 37/100\n",
      "13/13 [==============================] - 2s 176ms/step - loss: 0.0962 - sparse_categorical_accuracy: 0.9837 - val_loss: 0.7199 - val_sparse_categorical_accuracy: 0.6100\n",
      "Epoch 38/100\n",
      "13/13 [==============================] - 2s 176ms/step - loss: 0.0879 - sparse_categorical_accuracy: 0.9925 - val_loss: 0.3804 - val_sparse_categorical_accuracy: 0.8050\n",
      "Epoch 39/100\n",
      "13/13 [==============================] - 2s 181ms/step - loss: 0.0931 - sparse_categorical_accuracy: 0.9850 - val_loss: 0.5281 - val_sparse_categorical_accuracy: 0.7050\n",
      "Epoch 40/100\n",
      "13/13 [==============================] - 2s 178ms/step - loss: 0.0842 - sparse_categorical_accuracy: 0.9912 - val_loss: 0.1365 - val_sparse_categorical_accuracy: 0.9550\n",
      "Epoch 41/100\n",
      "13/13 [==============================] - 3s 201ms/step - loss: 0.0885 - sparse_categorical_accuracy: 0.9875 - val_loss: 0.1884 - val_sparse_categorical_accuracy: 0.9300\n",
      "Epoch 42/100\n",
      "13/13 [==============================] - 2s 177ms/step - loss: 0.0807 - sparse_categorical_accuracy: 0.9850 - val_loss: 0.1675 - val_sparse_categorical_accuracy: 0.9550\n",
      "Epoch 43/100\n",
      "13/13 [==============================] - 2s 176ms/step - loss: 0.0742 - sparse_categorical_accuracy: 0.9925 - val_loss: 0.1643 - val_sparse_categorical_accuracy: 0.9350\n",
      "Epoch 44/100\n",
      "13/13 [==============================] - 2s 177ms/step - loss: 0.0722 - sparse_categorical_accuracy: 0.9900 - val_loss: 0.1264 - val_sparse_categorical_accuracy: 0.9750\n",
      "Epoch 45/100\n",
      "13/13 [==============================] - 2s 179ms/step - loss: 0.0764 - sparse_categorical_accuracy: 0.9912 - val_loss: 0.3148 - val_sparse_categorical_accuracy: 0.8650\n",
      "Epoch 46/100\n"
     ]
    },
    {
     "name": "stdout",
     "output_type": "stream",
     "text": [
      "13/13 [==============================] - 2s 178ms/step - loss: 0.0705 - sparse_categorical_accuracy: 0.9912 - val_loss: 0.1260 - val_sparse_categorical_accuracy: 0.9750\n",
      "Epoch 47/100\n",
      "13/13 [==============================] - 2s 177ms/step - loss: 0.0668 - sparse_categorical_accuracy: 0.9950 - val_loss: 0.3538 - val_sparse_categorical_accuracy: 0.8350\n",
      "Epoch 48/100\n",
      "13/13 [==============================] - 2s 171ms/step - loss: 0.0657 - sparse_categorical_accuracy: 0.9925 - val_loss: 0.1478 - val_sparse_categorical_accuracy: 0.9350\n",
      "Epoch 49/100\n",
      "13/13 [==============================] - 2s 175ms/step - loss: 0.0696 - sparse_categorical_accuracy: 0.9950 - val_loss: 0.2422 - val_sparse_categorical_accuracy: 0.8950\n",
      "Epoch 50/100\n",
      "13/13 [==============================] - 2s 174ms/step - loss: 0.0646 - sparse_categorical_accuracy: 0.9975 - val_loss: 0.1583 - val_sparse_categorical_accuracy: 0.9350\n",
      "Epoch 51/100\n",
      "13/13 [==============================] - 2s 173ms/step - loss: 0.0661 - sparse_categorical_accuracy: 0.9962 - val_loss: 0.1778 - val_sparse_categorical_accuracy: 0.9150\n",
      "Epoch 52/100\n",
      "13/13 [==============================] - 3s 203ms/step - loss: 0.0644 - sparse_categorical_accuracy: 0.9950 - val_loss: 0.1003 - val_sparse_categorical_accuracy: 0.9700\n",
      "Epoch 53/100\n",
      "13/13 [==============================] - 2s 187ms/step - loss: 0.0633 - sparse_categorical_accuracy: 0.9950 - val_loss: 0.1117 - val_sparse_categorical_accuracy: 0.9700\n",
      "Epoch 54/100\n",
      "13/13 [==============================] - 2s 175ms/step - loss: 0.0658 - sparse_categorical_accuracy: 0.9875 - val_loss: 0.2744 - val_sparse_categorical_accuracy: 0.8400\n",
      "Epoch 55/100\n",
      "13/13 [==============================] - 2s 190ms/step - loss: 0.0639 - sparse_categorical_accuracy: 0.9925 - val_loss: 0.3069 - val_sparse_categorical_accuracy: 0.8250\n",
      "Epoch 56/100\n",
      "13/13 [==============================] - 3s 229ms/step - loss: 0.0596 - sparse_categorical_accuracy: 0.9937 - val_loss: 0.1076 - val_sparse_categorical_accuracy: 0.9750\n",
      "Epoch 57/100\n",
      "13/13 [==============================] - 3s 211ms/step - loss: 0.0575 - sparse_categorical_accuracy: 0.9937 - val_loss: 0.2524 - val_sparse_categorical_accuracy: 0.8850\n",
      "Epoch 58/100\n",
      "13/13 [==============================] - 3s 231ms/step - loss: 0.0567 - sparse_categorical_accuracy: 0.9962 - val_loss: 0.1592 - val_sparse_categorical_accuracy: 0.9350\n",
      "Epoch 59/100\n",
      "13/13 [==============================] - 3s 202ms/step - loss: 0.0587 - sparse_categorical_accuracy: 0.9975 - val_loss: 0.4778 - val_sparse_categorical_accuracy: 0.7850\n",
      "Epoch 60/100\n",
      "13/13 [==============================] - 3s 208ms/step - loss: 0.0510 - sparse_categorical_accuracy: 0.9937 - val_loss: 0.3586 - val_sparse_categorical_accuracy: 0.8200\n",
      "Epoch 61/100\n",
      "13/13 [==============================] - 3s 192ms/step - loss: 0.0580 - sparse_categorical_accuracy: 0.9962 - val_loss: 0.5369 - val_sparse_categorical_accuracy: 0.7450\n",
      "Epoch 62/100\n",
      "13/13 [==============================] - 3s 222ms/step - loss: 0.0535 - sparse_categorical_accuracy: 0.9937 - val_loss: 0.1403 - val_sparse_categorical_accuracy: 0.9400\n",
      "Epoch 63/100\n",
      "13/13 [==============================] - 3s 229ms/step - loss: 0.0523 - sparse_categorical_accuracy: 0.9962 - val_loss: 0.2727 - val_sparse_categorical_accuracy: 0.8700\n",
      "Epoch 64/100\n",
      "13/13 [==============================] - 3s 235ms/step - loss: 0.0503 - sparse_categorical_accuracy: 0.9962 - val_loss: 0.1056 - val_sparse_categorical_accuracy: 0.9800\n",
      "Epoch 65/100\n",
      "13/13 [==============================] - 3s 206ms/step - loss: 0.0530 - sparse_categorical_accuracy: 0.9975 - val_loss: 0.2316 - val_sparse_categorical_accuracy: 0.8650\n",
      "Epoch 66/100\n",
      "13/13 [==============================] - 3s 227ms/step - loss: 0.0500 - sparse_categorical_accuracy: 1.0000 - val_loss: 0.4994 - val_sparse_categorical_accuracy: 0.7800\n",
      "Epoch 67/100\n",
      "13/13 [==============================] - 3s 200ms/step - loss: 0.0458 - sparse_categorical_accuracy: 0.9987 - val_loss: 0.1803 - val_sparse_categorical_accuracy: 0.9200\n",
      "Epoch 68/100\n",
      "13/13 [==============================] - 3s 200ms/step - loss: 0.0480 - sparse_categorical_accuracy: 0.9962 - val_loss: 0.1328 - val_sparse_categorical_accuracy: 0.9450\n",
      "Epoch 69/100\n",
      "13/13 [==============================] - 3s 195ms/step - loss: 0.0462 - sparse_categorical_accuracy: 0.9950 - val_loss: 0.8324 - val_sparse_categorical_accuracy: 0.7000\n",
      "Epoch 70/100\n",
      "13/13 [==============================] - 3s 205ms/step - loss: 0.0480 - sparse_categorical_accuracy: 0.9925 - val_loss: 0.2096 - val_sparse_categorical_accuracy: 0.9050\n",
      "Epoch 71/100\n",
      "13/13 [==============================] - 3s 209ms/step - loss: 0.0426 - sparse_categorical_accuracy: 0.9975 - val_loss: 0.4626 - val_sparse_categorical_accuracy: 0.8100\n",
      "Epoch 72/100\n",
      "13/13 [==============================] - 3s 224ms/step - loss: 0.0471 - sparse_categorical_accuracy: 0.9937 - val_loss: 0.0975 - val_sparse_categorical_accuracy: 0.9700\n",
      "Epoch 73/100\n",
      "13/13 [==============================] - 3s 218ms/step - loss: 0.0430 - sparse_categorical_accuracy: 1.0000 - val_loss: 0.2442 - val_sparse_categorical_accuracy: 0.8900\n",
      "Epoch 74/100\n",
      "13/13 [==============================] - 3s 222ms/step - loss: 0.0371 - sparse_categorical_accuracy: 1.0000 - val_loss: 0.6653 - val_sparse_categorical_accuracy: 0.7000\n",
      "Epoch 75/100\n",
      "13/13 [==============================] - 3s 204ms/step - loss: 0.0424 - sparse_categorical_accuracy: 0.9987 - val_loss: 0.4384 - val_sparse_categorical_accuracy: 0.8150\n",
      "Epoch 76/100\n",
      "13/13 [==============================] - 3s 199ms/step - loss: 0.0400 - sparse_categorical_accuracy: 0.9987 - val_loss: 0.7239 - val_sparse_categorical_accuracy: 0.7350\n",
      "Epoch 77/100\n",
      "13/13 [==============================] - 3s 208ms/step - loss: 0.0411 - sparse_categorical_accuracy: 0.9987 - val_loss: 0.1023 - val_sparse_categorical_accuracy: 0.9750\n",
      "Epoch 78/100\n",
      "13/13 [==============================] - 3s 224ms/step - loss: 0.0671 - sparse_categorical_accuracy: 0.9850 - val_loss: 0.2623 - val_sparse_categorical_accuracy: 0.8950\n",
      "Epoch 79/100\n",
      "13/13 [==============================] - 3s 201ms/step - loss: 0.0516 - sparse_categorical_accuracy: 0.9937 - val_loss: 8.8135 - val_sparse_categorical_accuracy: 0.5050\n",
      "Epoch 80/100\n",
      "13/13 [==============================] - 2s 180ms/step - loss: 0.0541 - sparse_categorical_accuracy: 0.9900 - val_loss: 0.0967 - val_sparse_categorical_accuracy: 0.9700\n",
      "Epoch 81/100\n",
      "13/13 [==============================] - 3s 206ms/step - loss: 0.0358 - sparse_categorical_accuracy: 0.9987 - val_loss: 0.3004 - val_sparse_categorical_accuracy: 0.8550\n",
      "Epoch 82/100\n",
      "13/13 [==============================] - 3s 194ms/step - loss: 0.0393 - sparse_categorical_accuracy: 0.9987 - val_loss: 0.3717 - val_sparse_categorical_accuracy: 0.8450\n",
      "Epoch 83/100\n",
      "13/13 [==============================] - 2s 167ms/step - loss: 0.0351 - sparse_categorical_accuracy: 0.9987 - val_loss: 0.7744 - val_sparse_categorical_accuracy: 0.7100\n",
      "Epoch 84/100\n",
      "13/13 [==============================] - 3s 221ms/step - loss: 0.0369 - sparse_categorical_accuracy: 0.9975 - val_loss: 0.0880 - val_sparse_categorical_accuracy: 0.9650\n",
      "Epoch 85/100\n",
      "13/13 [==============================] - 3s 200ms/step - loss: 0.0364 - sparse_categorical_accuracy: 1.0000 - val_loss: 0.2130 - val_sparse_categorical_accuracy: 0.9100\n",
      "Epoch 86/100\n",
      "13/13 [==============================] - 3s 218ms/step - loss: 0.0353 - sparse_categorical_accuracy: 1.0000 - val_loss: 0.3666 - val_sparse_categorical_accuracy: 0.8200\n",
      "Epoch 87/100\n",
      "13/13 [==============================] - 3s 203ms/step - loss: 0.0298 - sparse_categorical_accuracy: 0.9987 - val_loss: 0.1183 - val_sparse_categorical_accuracy: 0.9700\n",
      "Epoch 88/100\n",
      "13/13 [==============================] - 3s 229ms/step - loss: 0.0273 - sparse_categorical_accuracy: 1.0000 - val_loss: 0.2949 - val_sparse_categorical_accuracy: 0.8750\n",
      "Epoch 89/100\n",
      "13/13 [==============================] - 3s 256ms/step - loss: 0.0301 - sparse_categorical_accuracy: 0.9987 - val_loss: 0.0898 - val_sparse_categorical_accuracy: 0.9700\n",
      "Epoch 90/100\n",
      "13/13 [==============================] - 4s 333ms/step - loss: 0.0321 - sparse_categorical_accuracy: 1.0000 - val_loss: 0.3719 - val_sparse_categorical_accuracy: 0.8450\n",
      "Epoch 91/100\n"
     ]
    },
    {
     "name": "stdout",
     "output_type": "stream",
     "text": [
      "13/13 [==============================] - 3s 269ms/step - loss: 0.0448 - sparse_categorical_accuracy: 0.9937 - val_loss: 0.1800 - val_sparse_categorical_accuracy: 0.9200\n",
      "Epoch 92/100\n",
      "13/13 [==============================] - 4s 296ms/step - loss: 0.0371 - sparse_categorical_accuracy: 0.9950 - val_loss: 1.2524 - val_sparse_categorical_accuracy: 0.6500\n",
      "Epoch 93/100\n",
      "13/13 [==============================] - 3s 218ms/step - loss: 0.0303 - sparse_categorical_accuracy: 1.0000 - val_loss: 4.2665 - val_sparse_categorical_accuracy: 0.4950\n",
      "Epoch 94/100\n",
      "13/13 [==============================] - 3s 266ms/step - loss: 0.0276 - sparse_categorical_accuracy: 0.9987 - val_loss: 0.1700 - val_sparse_categorical_accuracy: 0.9100\n",
      "Epoch 95/100\n",
      "13/13 [==============================] - 3s 242ms/step - loss: 0.0268 - sparse_categorical_accuracy: 1.0000 - val_loss: 1.3854 - val_sparse_categorical_accuracy: 0.6000\n",
      "Epoch 96/100\n",
      "13/13 [==============================] - 2s 187ms/step - loss: 0.0349 - sparse_categorical_accuracy: 0.9987 - val_loss: 0.1054 - val_sparse_categorical_accuracy: 0.9600\n",
      "Epoch 97/100\n",
      "13/13 [==============================] - 3s 250ms/step - loss: 0.0313 - sparse_categorical_accuracy: 0.9975 - val_loss: 0.6777 - val_sparse_categorical_accuracy: 0.7200\n",
      "Epoch 98/100\n",
      "13/13 [==============================] - 3s 193ms/step - loss: 0.0316 - sparse_categorical_accuracy: 0.9987 - val_loss: 1.6079 - val_sparse_categorical_accuracy: 0.5350\n",
      "Epoch 99/100\n",
      "13/13 [==============================] - 3s 216ms/step - loss: 0.0312 - sparse_categorical_accuracy: 0.9975 - val_loss: 2.5702 - val_sparse_categorical_accuracy: 0.5400\n",
      "Epoch 100/100\n",
      "13/13 [==============================] - 2s 183ms/step - loss: 0.0293 - sparse_categorical_accuracy: 0.9987 - val_loss: 1.0910 - val_sparse_categorical_accuracy: 0.6250\n"
     ]
    }
   ],
   "source": [
    "model = make_CNN_model(x_train.shape[1:])\n",
    "trained_model, history = train_CNN_model(model, x_train, y_train, epochs=100)"
   ]
  },
  {
   "cell_type": "code",
   "execution_count": 35,
   "id": "227e6120",
   "metadata": {},
   "outputs": [
    {
     "name": "stdout",
     "output_type": "stream",
     "text": [
      "4/4 [==============================] - 0s 15ms/step - loss: 1.2070 - sparse_categorical_accuracy: 0.5800\n",
      "Test accuracy 0.5799999833106995\n",
      "Test loss 1.2070051431655884\n"
     ]
    }
   ],
   "source": [
    "test_loss, test_acc = trained_model.evaluate(x_test_original, y_test_original)\n",
    "\n",
    "print(\"Test accuracy\", test_acc)\n",
    "print(\"Test loss\", test_loss)"
   ]
  },
  {
   "cell_type": "code",
   "execution_count": 36,
   "id": "4c579fb7",
   "metadata": {},
   "outputs": [],
   "source": [
    "predictions_original = model.predict(x_test_original)\n",
    "perturb_test_set = x_test_original.copy()\n",
    "perturb_test_set = perturb_test_set.reshape(x_test_original.shape[0:2])\n",
    "x_test_rbp = np.asarray([perturb('RBP',x,400,500) for x in perturb_test_set])\n",
    "predictions_rbp = model.predict(x_test_rbp)\n",
    "x_test_zero = np.asarray([perturb('zero',x,400,500) for x in perturb_test_set])\n",
    "predictions_zero = model.predict(x_test_zero)\n",
    "x_test_noise = np.asarray([perturb('noise',x,400,500) for x in perturb_test_set])\n",
    "predictions_noise = model.predict(x_test_noise)\n",
    "x_test_blur = np.asarray([perturb('blur',x,400,500) for x in perturb_test_set])\n",
    "predictions_blur = model.predict(x_test_blur)"
   ]
  },
  {
   "cell_type": "code",
   "execution_count": 37,
   "id": "b5d3f821",
   "metadata": {},
   "outputs": [],
   "source": [
    "def accuracy(predictions, labels):\n",
    "    hits = 0\n",
    "    for i in range(0,len(predictions)):\n",
    "        if predictions[i] == labels[i]:\n",
    "            hits += 1\n",
    "    return hits/len(predictions)"
   ]
  },
  {
   "cell_type": "code",
   "execution_count": 38,
   "id": "89f21d47",
   "metadata": {},
   "outputs": [],
   "source": [
    "original_accuracy = accuracy(np.argmax(predictions_original,axis=1), y_test_original)\n",
    "rbp_accuracy = accuracy(np.argmax(predictions_rbp,axis=1), y_test_original)\n",
    "zero_accuracy = accuracy(np.argmax(predictions_zero,axis=1), y_test_original)\n",
    "noise_accuracy = accuracy(np.argmax(predictions_noise,axis=1), y_test_original)\n",
    "blur_accuracy = accuracy(np.argmax(predictions_blur,axis=1), y_test_original)"
   ]
  },
  {
   "cell_type": "code",
   "execution_count": 39,
   "id": "e52c9d2e",
   "metadata": {},
   "outputs": [
    {
     "name": "stdout",
     "output_type": "stream",
     "text": [
      " Original Accuracy: 0.58\n",
      " RBP Accuracy: 0.49\n",
      " Zero Accuracy: 0.49\n",
      " Noise Accuracy: 0.5\n",
      " Blur Accuracy: 0.5\n",
      "\n"
     ]
    }
   ],
   "source": [
    "print(\" Original Accuracy: \" + str(original_accuracy) + \"\\n\"+\n",
    "    \" RBP Accuracy: \" + str(rbp_accuracy) + \"\\n\"+\n",
    "    \" Zero Accuracy: \" + str(zero_accuracy) + \"\\n\"+\n",
    "    \" Noise Accuracy: \" + str(noise_accuracy) + \"\\n\"+\n",
    "    \" Blur Accuracy: \" + str(blur_accuracy) + \"\\n\")"
   ]
  },
  {
   "cell_type": "code",
   "execution_count": 25,
   "id": "0f7b0b1f",
   "metadata": {},
   "outputs": [],
   "source": [
    "# Test Realism "
   ]
  },
  {
   "cell_type": "code",
   "execution_count": 26,
   "id": "ba60c81f",
   "metadata": {},
   "outputs": [],
   "source": [
    "## Generate Synthetic Data "
   ]
  },
  {
   "cell_type": "code",
   "execution_count": 40,
   "id": "a44bce09",
   "metadata": {},
   "outputs": [],
   "source": [
    "perturbed_datasets = generateSyntheticPerturbReal(500)"
   ]
  },
  {
   "cell_type": "code",
   "execution_count": 41,
   "id": "a4d102fd",
   "metadata": {},
   "outputs": [],
   "source": [
    "# Create Model"
   ]
  },
  {
   "cell_type": "code",
   "execution_count": 42,
   "id": "4a2dd5c5",
   "metadata": {},
   "outputs": [
    {
     "name": "stdout",
     "output_type": "stream",
     "text": [
      "Epoch 1/10\n",
      "13/13 [==============================] - 4s 226ms/step - loss: 0.6925 - sparse_categorical_accuracy: 0.5362 - val_loss: 0.6980 - val_sparse_categorical_accuracy: 0.5050\n",
      "Epoch 2/10\n"
     ]
    },
    {
     "ename": "KeyboardInterrupt",
     "evalue": "",
     "output_type": "error",
     "traceback": [
      "\u001b[0;31m---------------------------------------------------------------------------\u001b[0m",
      "\u001b[0;31mKeyboardInterrupt\u001b[0m                         Traceback (most recent call last)",
      "\u001b[0;32m/var/folders/wr/6tlhy1dx1qn8mdpd33lflg3m0000gn/T/ipykernel_53914/1407864681.py\u001b[0m in \u001b[0;36m<module>\u001b[0;34m\u001b[0m\n\u001b[1;32m      2\u001b[0m \u001b[0;32mfor\u001b[0m \u001b[0mdataset\u001b[0m \u001b[0;32min\u001b[0m \u001b[0mperturbed_datasets\u001b[0m\u001b[0;34m:\u001b[0m\u001b[0;34m\u001b[0m\u001b[0;34m\u001b[0m\u001b[0m\n\u001b[1;32m      3\u001b[0m     \u001b[0mmodel\u001b[0m \u001b[0;34m=\u001b[0m \u001b[0mmake_CNN_model\u001b[0m\u001b[0;34m(\u001b[0m\u001b[0mdataset\u001b[0m\u001b[0;34m[\u001b[0m\u001b[0;36m0\u001b[0m\u001b[0;34m]\u001b[0m\u001b[0;34m.\u001b[0m\u001b[0mshape\u001b[0m\u001b[0;34m[\u001b[0m\u001b[0;36m1\u001b[0m\u001b[0;34m:\u001b[0m\u001b[0;34m]\u001b[0m\u001b[0;34m)\u001b[0m\u001b[0;34m\u001b[0m\u001b[0;34m\u001b[0m\u001b[0m\n\u001b[0;32m----> 4\u001b[0;31m     \u001b[0mtrained_model\u001b[0m\u001b[0;34m,\u001b[0m \u001b[0mhistory\u001b[0m \u001b[0;34m=\u001b[0m \u001b[0mtrain_CNN_model\u001b[0m\u001b[0;34m(\u001b[0m\u001b[0mmodel\u001b[0m\u001b[0;34m,\u001b[0m \u001b[0mdataset\u001b[0m\u001b[0;34m[\u001b[0m\u001b[0;36m0\u001b[0m\u001b[0;34m]\u001b[0m\u001b[0;34m,\u001b[0m \u001b[0mdataset\u001b[0m\u001b[0;34m[\u001b[0m\u001b[0;36m1\u001b[0m\u001b[0;34m]\u001b[0m\u001b[0;34m,\u001b[0m \u001b[0mepochs\u001b[0m\u001b[0;34m=\u001b[0m\u001b[0;36m10\u001b[0m\u001b[0;34m)\u001b[0m\u001b[0;34m\u001b[0m\u001b[0;34m\u001b[0m\u001b[0m\n\u001b[0m\u001b[1;32m      5\u001b[0m     \u001b[0mdatasets_training_loss\u001b[0m\u001b[0;34m.\u001b[0m\u001b[0mappend\u001b[0m\u001b[0;34m(\u001b[0m\u001b[0mhistory\u001b[0m\u001b[0;34m.\u001b[0m\u001b[0mhistory\u001b[0m\u001b[0;34m[\u001b[0m\u001b[0;34m'val_loss'\u001b[0m\u001b[0;34m]\u001b[0m\u001b[0;34m)\u001b[0m\u001b[0;34m\u001b[0m\u001b[0;34m\u001b[0m\u001b[0m\n",
      "\u001b[0;32m~/Downloads/phd/projects/1/LIMESegment_refactor/models.py\u001b[0m in \u001b[0;36mtrain_CNN_model\u001b[0;34m(model, x_train, y_train, epochs, batch_size, num_classes)\u001b[0m\n\u001b[1;32m     35\u001b[0m             \u001b[0mmetrics\u001b[0m\u001b[0;34m=\u001b[0m\u001b[0;34m[\u001b[0m\u001b[0;34m\"sparse_categorical_accuracy\"\u001b[0m\u001b[0;34m]\u001b[0m\u001b[0;34m,\u001b[0m\u001b[0;34m\u001b[0m\u001b[0;34m\u001b[0m\u001b[0m\n\u001b[1;32m     36\u001b[0m \t)\n\u001b[0;32m---> 37\u001b[0;31m \thistory = model.fit(\n\u001b[0m\u001b[1;32m     38\u001b[0m             \u001b[0mx_train\u001b[0m\u001b[0;34m,\u001b[0m\u001b[0;34m\u001b[0m\u001b[0;34m\u001b[0m\u001b[0m\n\u001b[1;32m     39\u001b[0m             \u001b[0my_train\u001b[0m\u001b[0;34m,\u001b[0m\u001b[0;34m\u001b[0m\u001b[0;34m\u001b[0m\u001b[0m\n",
      "\u001b[0;32m/usr/local/lib/python3.9/site-packages/tensorflow/python/keras/engine/training.py\u001b[0m in \u001b[0;36mfit\u001b[0;34m(self, x, y, batch_size, epochs, verbose, callbacks, validation_split, validation_data, shuffle, class_weight, sample_weight, initial_epoch, steps_per_epoch, validation_steps, validation_batch_size, validation_freq, max_queue_size, workers, use_multiprocessing)\u001b[0m\n\u001b[1;32m   1191\u001b[0m                 _r=1):\n\u001b[1;32m   1192\u001b[0m               \u001b[0mcallbacks\u001b[0m\u001b[0;34m.\u001b[0m\u001b[0mon_train_batch_begin\u001b[0m\u001b[0;34m(\u001b[0m\u001b[0mstep\u001b[0m\u001b[0;34m)\u001b[0m\u001b[0;34m\u001b[0m\u001b[0;34m\u001b[0m\u001b[0m\n\u001b[0;32m-> 1193\u001b[0;31m               \u001b[0mtmp_logs\u001b[0m \u001b[0;34m=\u001b[0m \u001b[0mself\u001b[0m\u001b[0;34m.\u001b[0m\u001b[0mtrain_function\u001b[0m\u001b[0;34m(\u001b[0m\u001b[0miterator\u001b[0m\u001b[0;34m)\u001b[0m\u001b[0;34m\u001b[0m\u001b[0;34m\u001b[0m\u001b[0m\n\u001b[0m\u001b[1;32m   1194\u001b[0m               \u001b[0;32mif\u001b[0m \u001b[0mdata_handler\u001b[0m\u001b[0;34m.\u001b[0m\u001b[0mshould_sync\u001b[0m\u001b[0;34m:\u001b[0m\u001b[0;34m\u001b[0m\u001b[0;34m\u001b[0m\u001b[0m\n\u001b[1;32m   1195\u001b[0m                 \u001b[0mcontext\u001b[0m\u001b[0;34m.\u001b[0m\u001b[0masync_wait\u001b[0m\u001b[0;34m(\u001b[0m\u001b[0;34m)\u001b[0m\u001b[0;34m\u001b[0m\u001b[0;34m\u001b[0m\u001b[0m\n",
      "\u001b[0;32m/usr/local/lib/python3.9/site-packages/tensorflow/python/eager/def_function.py\u001b[0m in \u001b[0;36m__call__\u001b[0;34m(self, *args, **kwds)\u001b[0m\n\u001b[1;32m    883\u001b[0m \u001b[0;34m\u001b[0m\u001b[0m\n\u001b[1;32m    884\u001b[0m       \u001b[0;32mwith\u001b[0m \u001b[0mOptionalXlaContext\u001b[0m\u001b[0;34m(\u001b[0m\u001b[0mself\u001b[0m\u001b[0;34m.\u001b[0m\u001b[0m_jit_compile\u001b[0m\u001b[0;34m)\u001b[0m\u001b[0;34m:\u001b[0m\u001b[0;34m\u001b[0m\u001b[0;34m\u001b[0m\u001b[0m\n\u001b[0;32m--> 885\u001b[0;31m         \u001b[0mresult\u001b[0m \u001b[0;34m=\u001b[0m \u001b[0mself\u001b[0m\u001b[0;34m.\u001b[0m\u001b[0m_call\u001b[0m\u001b[0;34m(\u001b[0m\u001b[0;34m*\u001b[0m\u001b[0margs\u001b[0m\u001b[0;34m,\u001b[0m \u001b[0;34m**\u001b[0m\u001b[0mkwds\u001b[0m\u001b[0;34m)\u001b[0m\u001b[0;34m\u001b[0m\u001b[0;34m\u001b[0m\u001b[0m\n\u001b[0m\u001b[1;32m    886\u001b[0m \u001b[0;34m\u001b[0m\u001b[0m\n\u001b[1;32m    887\u001b[0m       \u001b[0mnew_tracing_count\u001b[0m \u001b[0;34m=\u001b[0m \u001b[0mself\u001b[0m\u001b[0;34m.\u001b[0m\u001b[0mexperimental_get_tracing_count\u001b[0m\u001b[0;34m(\u001b[0m\u001b[0;34m)\u001b[0m\u001b[0;34m\u001b[0m\u001b[0;34m\u001b[0m\u001b[0m\n",
      "\u001b[0;32m/usr/local/lib/python3.9/site-packages/tensorflow/python/eager/def_function.py\u001b[0m in \u001b[0;36m_call\u001b[0;34m(self, *args, **kwds)\u001b[0m\n\u001b[1;32m    915\u001b[0m       \u001b[0;31m# In this case we have created variables on the first call, so we run the\u001b[0m\u001b[0;34m\u001b[0m\u001b[0;34m\u001b[0m\u001b[0;34m\u001b[0m\u001b[0m\n\u001b[1;32m    916\u001b[0m       \u001b[0;31m# defunned version which is guaranteed to never create variables.\u001b[0m\u001b[0;34m\u001b[0m\u001b[0;34m\u001b[0m\u001b[0;34m\u001b[0m\u001b[0m\n\u001b[0;32m--> 917\u001b[0;31m       \u001b[0;32mreturn\u001b[0m \u001b[0mself\u001b[0m\u001b[0;34m.\u001b[0m\u001b[0m_stateless_fn\u001b[0m\u001b[0;34m(\u001b[0m\u001b[0;34m*\u001b[0m\u001b[0margs\u001b[0m\u001b[0;34m,\u001b[0m \u001b[0;34m**\u001b[0m\u001b[0mkwds\u001b[0m\u001b[0;34m)\u001b[0m  \u001b[0;31m# pylint: disable=not-callable\u001b[0m\u001b[0;34m\u001b[0m\u001b[0;34m\u001b[0m\u001b[0m\n\u001b[0m\u001b[1;32m    918\u001b[0m     \u001b[0;32melif\u001b[0m \u001b[0mself\u001b[0m\u001b[0;34m.\u001b[0m\u001b[0m_stateful_fn\u001b[0m \u001b[0;32mis\u001b[0m \u001b[0;32mnot\u001b[0m \u001b[0;32mNone\u001b[0m\u001b[0;34m:\u001b[0m\u001b[0;34m\u001b[0m\u001b[0;34m\u001b[0m\u001b[0m\n\u001b[1;32m    919\u001b[0m       \u001b[0;31m# Release the lock early so that multiple threads can perform the call\u001b[0m\u001b[0;34m\u001b[0m\u001b[0;34m\u001b[0m\u001b[0;34m\u001b[0m\u001b[0m\n",
      "\u001b[0;32m/usr/local/lib/python3.9/site-packages/tensorflow/python/eager/function.py\u001b[0m in \u001b[0;36m__call__\u001b[0;34m(self, *args, **kwargs)\u001b[0m\n\u001b[1;32m   3037\u001b[0m       (graph_function,\n\u001b[1;32m   3038\u001b[0m        filtered_flat_args) = self._maybe_define_function(args, kwargs)\n\u001b[0;32m-> 3039\u001b[0;31m     return graph_function._call_flat(\n\u001b[0m\u001b[1;32m   3040\u001b[0m         filtered_flat_args, captured_inputs=graph_function.captured_inputs)  # pylint: disable=protected-access\n\u001b[1;32m   3041\u001b[0m \u001b[0;34m\u001b[0m\u001b[0m\n",
      "\u001b[0;32m/usr/local/lib/python3.9/site-packages/tensorflow/python/eager/function.py\u001b[0m in \u001b[0;36m_call_flat\u001b[0;34m(self, args, captured_inputs, cancellation_manager)\u001b[0m\n\u001b[1;32m   1961\u001b[0m         and executing_eagerly):\n\u001b[1;32m   1962\u001b[0m       \u001b[0;31m# No tape is watching; skip to running the function.\u001b[0m\u001b[0;34m\u001b[0m\u001b[0;34m\u001b[0m\u001b[0;34m\u001b[0m\u001b[0m\n\u001b[0;32m-> 1963\u001b[0;31m       return self._build_call_outputs(self._inference_function.call(\n\u001b[0m\u001b[1;32m   1964\u001b[0m           ctx, args, cancellation_manager=cancellation_manager))\n\u001b[1;32m   1965\u001b[0m     forward_backward = self._select_forward_and_backward_functions(\n",
      "\u001b[0;32m/usr/local/lib/python3.9/site-packages/tensorflow/python/eager/function.py\u001b[0m in \u001b[0;36mcall\u001b[0;34m(self, ctx, args, cancellation_manager)\u001b[0m\n\u001b[1;32m    589\u001b[0m       \u001b[0;32mwith\u001b[0m \u001b[0m_InterpolateFunctionError\u001b[0m\u001b[0;34m(\u001b[0m\u001b[0mself\u001b[0m\u001b[0;34m)\u001b[0m\u001b[0;34m:\u001b[0m\u001b[0;34m\u001b[0m\u001b[0;34m\u001b[0m\u001b[0m\n\u001b[1;32m    590\u001b[0m         \u001b[0;32mif\u001b[0m \u001b[0mcancellation_manager\u001b[0m \u001b[0;32mis\u001b[0m \u001b[0;32mNone\u001b[0m\u001b[0;34m:\u001b[0m\u001b[0;34m\u001b[0m\u001b[0;34m\u001b[0m\u001b[0m\n\u001b[0;32m--> 591\u001b[0;31m           outputs = execute.execute(\n\u001b[0m\u001b[1;32m    592\u001b[0m               \u001b[0mstr\u001b[0m\u001b[0;34m(\u001b[0m\u001b[0mself\u001b[0m\u001b[0;34m.\u001b[0m\u001b[0msignature\u001b[0m\u001b[0;34m.\u001b[0m\u001b[0mname\u001b[0m\u001b[0;34m)\u001b[0m\u001b[0;34m,\u001b[0m\u001b[0;34m\u001b[0m\u001b[0;34m\u001b[0m\u001b[0m\n\u001b[1;32m    593\u001b[0m               \u001b[0mnum_outputs\u001b[0m\u001b[0;34m=\u001b[0m\u001b[0mself\u001b[0m\u001b[0;34m.\u001b[0m\u001b[0m_num_outputs\u001b[0m\u001b[0;34m,\u001b[0m\u001b[0;34m\u001b[0m\u001b[0;34m\u001b[0m\u001b[0m\n",
      "\u001b[0;32m/usr/local/lib/python3.9/site-packages/tensorflow/python/eager/execute.py\u001b[0m in \u001b[0;36mquick_execute\u001b[0;34m(op_name, num_outputs, inputs, attrs, ctx, name)\u001b[0m\n\u001b[1;32m     57\u001b[0m   \u001b[0;32mtry\u001b[0m\u001b[0;34m:\u001b[0m\u001b[0;34m\u001b[0m\u001b[0;34m\u001b[0m\u001b[0m\n\u001b[1;32m     58\u001b[0m     \u001b[0mctx\u001b[0m\u001b[0;34m.\u001b[0m\u001b[0mensure_initialized\u001b[0m\u001b[0;34m(\u001b[0m\u001b[0;34m)\u001b[0m\u001b[0;34m\u001b[0m\u001b[0;34m\u001b[0m\u001b[0m\n\u001b[0;32m---> 59\u001b[0;31m     tensors = pywrap_tfe.TFE_Py_Execute(ctx._handle, device_name, op_name,\n\u001b[0m\u001b[1;32m     60\u001b[0m                                         inputs, attrs, num_outputs)\n\u001b[1;32m     61\u001b[0m   \u001b[0;32mexcept\u001b[0m \u001b[0mcore\u001b[0m\u001b[0;34m.\u001b[0m\u001b[0m_NotOkStatusException\u001b[0m \u001b[0;32mas\u001b[0m \u001b[0me\u001b[0m\u001b[0;34m:\u001b[0m\u001b[0;34m\u001b[0m\u001b[0;34m\u001b[0m\u001b[0m\n",
      "\u001b[0;31mKeyboardInterrupt\u001b[0m: "
     ]
    }
   ],
   "source": [
    "datasets_training_loss = []\n",
    "for dataset in perturbed_datasets: \n",
    "    model = make_CNN_model(dataset[0].shape[1:])\n",
    "    trained_model, history = train_CNN_model(model, dataset[0], dataset[1], epochs=10)\n",
    "    datasets_training_loss.append(history.history['val_loss'])"
   ]
  },
  {
   "cell_type": "code",
   "execution_count": null,
   "id": "26f978c9",
   "metadata": {},
   "outputs": [],
   "source": [
    "\n",
    "for loss in datasets_training_loss:\n",
    "    plt.plot(loss)\n",
    "plt.title('Model Loss Under Different Perturbations')\n",
    "plt.ylabel('val loss')\n",
    "plt.xlabel('epoch')\n",
    "plt.legend(['RBP','zero','random','blur'], loc='upper left')\n",
    "plt.savefig(\"realistic_perturb.eps\", format='eps')\n",
    "plt.show()"
   ]
  },
  {
   "cell_type": "code",
   "execution_count": null,
   "id": "3469ed03",
   "metadata": {},
   "outputs": [],
   "source": []
  },
  {
   "cell_type": "code",
   "execution_count": null,
   "id": "d7b1b2e4",
   "metadata": {},
   "outputs": [],
   "source": []
  }
 ],
 "metadata": {
  "kernelspec": {
   "display_name": "Python 3 (ipykernel)",
   "language": "python",
   "name": "python3"
  },
  "language_info": {
   "codemirror_mode": {
    "name": "ipython",
    "version": 3
   },
   "file_extension": ".py",
   "mimetype": "text/x-python",
   "name": "python",
   "nbconvert_exporter": "python",
   "pygments_lexer": "ipython3",
   "version": "3.9.6"
  }
 },
 "nbformat": 4,
 "nbformat_minor": 5
}

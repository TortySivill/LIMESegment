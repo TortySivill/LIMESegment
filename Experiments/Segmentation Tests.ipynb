{
 "cells": [
  {
   "cell_type": "code",
   "execution_count": 3,
   "id": "c596a9f6",
   "metadata": {},
   "outputs": [],
   "source": [
    "import matplotlib.pyplot as plt\n",
    "import wfdb\n",
    "import numpy as np\n",
    "import stumpy\n",
    "import ruptures as rpt"
   ]
  },
  {
   "cell_type": "code",
   "execution_count": 4,
   "id": "38280e81",
   "metadata": {},
   "outputs": [],
   "source": [
    "import sys\n",
    "sys.path.append('../')\n",
    "from Utils.explanations import NNSegment "
   ]
  },
  {
   "cell_type": "markdown",
   "id": "37bf64a5",
   "metadata": {},
   "source": [
    "### Create Synthetic Dataset "
   ]
  },
  {
   "cell_type": "code",
   "execution_count": 112,
   "id": "398d8ef0",
   "metadata": {},
   "outputs": [
    {
     "data": {
      "text/plain": [
       "[<matplotlib.lines.Line2D at 0x13162fdf0>]"
      ]
     },
     "execution_count": 112,
     "metadata": {},
     "output_type": "execute_result"
    },
    {
     "data": {
      "image/png": "[encoded data removed]",
      "text/plain": [
       "<Figure size 432x288 with 1 Axes>"
      ]
     },
     "metadata": {
      "needs_background": "light"
     },
     "output_type": "display_data"
    }
   ],
   "source": [
    "X_synthetic = [] \n",
    "for _ in range(0,50):\n",
    "    x1 = np.random.normal(10, 0.2, 100)\n",
    "    x2 = np.random.normal(10, 0.03, 100)\n",
    "    x3 = np.random.normal(10, 0.1, 100)\n",
    "    t = list(x1) + list(x2) + list(x3) + list(x2) + list(x1)\n",
    "    X_synthetic.append(np.asarray(t))\n",
    "plt.plot(X_synthetic[0])"
   ]
  },
  {
   "cell_type": "code",
   "execution_count": 113,
   "id": "2d58c026",
   "metadata": {},
   "outputs": [],
   "source": [
    "ground_truth_synthetic = []\n",
    "for _ in range(0,50):\n",
    "    ground_truth_synthetic.append([100,200,300,400])"
   ]
  },
  {
   "cell_type": "markdown",
   "id": "00b9293c",
   "metadata": {},
   "source": [
    "### Load Apnea dataset"
   ]
  },
  {
   "cell_type": "code",
   "execution_count": 115,
   "id": "32303c9e",
   "metadata": {},
   "outputs": [],
   "source": [
    "annotations = []\n",
    "ecgs = []\n",
    "\n",
    "for file_index in range(1,10):\n",
    "    #file_name = files.split(\".\")[0]\n",
    "    ecg = wfdb.rdsamp('datasets/apnea/apnea/a0'+str(file_index))\n",
    "    ecgs.append(ecg[0].reshape(len(ecg[0])))\n",
    "    annotation = wfdb.rdann('datasets/apnea/apnea/a0'+str(file_index), extension=\"apn\")\n",
    "    annotations.append(annotation.symbol)\n",
    "for file_index in range(10,21):\n",
    "    #file_name = files.split(\".\")[0]\n",
    "    ecg = wfdb.rdsamp('datasets/apnea/apnea/a'+str(file_index))\n",
    "    ecgs.append(ecg[0].reshape(len(ecg[0])))\n",
    "    annotation = wfdb.rdann('datasets/apnea/apnea/a'+str(file_index), extension=\"apn\")\n",
    "    annotations.append(annotation.symbol)\n",
    "\n",
    "for file_index in range(1,6):\n",
    "    #file_name = files.split(\".\")[0]\n",
    "    ecg = wfdb.rdsamp('datasets/apnea/apnea/b0'+str(file_index))\n",
    "    ecgs.append(ecg[0].reshape(len(ecg[0])))\n",
    "    annotation = wfdb.rdann('datasets/apnea/apnea/b0'+str(file_index), extension=\"apn\")\n",
    "    annotations.append(annotation.symbol)\n",
    "\n",
    "for file_index in range(1,10):\n",
    "    #file_name = files.split(\".\")[0]\n",
    "    ecg = wfdb.rdsamp('datasets/apnea/apnea/c0'+str(file_index))\n",
    "    ecgs.append(ecg[0].reshape(len(ecg[0])))\n",
    "    annotation = wfdb.rdann('datasets/apnea/apnea/c0'+str(file_index), extension=\"apn\")\n",
    "    annotations.append(annotation.symbol)\n",
    "for file_index in range(10,11):\n",
    "    #file_name = files.split(\".\")[0]\n",
    "    ecg = wfdb.rdsamp('datasets/apnea/apnea/c'+str(file_index))\n",
    "    ecgs.append(ecg[0])\n",
    "    annotation = wfdb.rdann('datasets/apnea/apnea/c'+str(file_index), extension=\"apn\")\n",
    "    annotations.append(annotation.symbol)"
   ]
  },
  {
   "cell_type": "code",
   "execution_count": 116,
   "id": "cf2459a2",
   "metadata": {},
   "outputs": [],
   "source": [
    "##### Simplify ECG signals by downsampling"
   ]
  },
  {
   "cell_type": "code",
   "execution_count": 117,
   "id": "9808cbc6",
   "metadata": {},
   "outputs": [],
   "source": [
    "simple_ecgs = []\n",
    "for ecg in ecgs:\n",
    "    simple_ecgs.append(ecg.reshape(-1, 100).mean(axis=1))"
   ]
  },
  {
   "cell_type": "markdown",
   "id": "5be61c3a",
   "metadata": {},
   "source": [
    "#### Find NNSegment Synthetic Change Points"
   ]
  },
  {
   "cell_type": "code",
   "execution_count": 152,
   "id": "ba202947",
   "metadata": {},
   "outputs": [],
   "source": [
    "NNSegment_synthetic_cp = [NNSegment(x,100,4) for x in X_synthetic]"
   ]
  },
  {
   "cell_type": "markdown",
   "id": "7f8bd573",
   "metadata": {},
   "source": [
    "#### Find FLUSS Synthetic Change Points"
   ]
  },
  {
   "cell_type": "code",
   "execution_count": 121,
   "id": "66ab6d51",
   "metadata": {},
   "outputs": [],
   "source": [
    "FLUSS_synthetic_cp = []\n",
    "for ts in X_synthetic:\n",
    "    m = 10\n",
    "    mp = stumpy.stump(ts, m=m)\n",
    "    L = 200\n",
    "    cac, regime_locations = stumpy.fluss(mp[:, 1], L=L, n_regimes=4, excl_factor=5)\n",
    "    FLUSS_synthetic_cp.append(regime_locations)"
   ]
  },
  {
   "cell_type": "code",
   "execution_count": 122,
   "id": "6d11ffe3",
   "metadata": {},
   "outputs": [],
   "source": [
    "FLUSS_synthetic_cps = []\n",
    "for sample in FLUSS_synthetic_cp:\n",
    "    FLUSS_synthetic_cps.append(sample.sort())"
   ]
  },
  {
   "cell_type": "code",
   "execution_count": 123,
   "id": "76dfbcfa",
   "metadata": {},
   "outputs": [
    {
     "data": {
      "text/plain": [
       "array([0, 0, 0])"
      ]
     },
     "execution_count": 123,
     "metadata": {},
     "output_type": "execute_result"
    }
   ],
   "source": [
    "FLUSS_synthetic_cp[10]"
   ]
  },
  {
   "cell_type": "markdown",
   "id": "d457afb4",
   "metadata": {},
   "source": [
    "### Find Bottom Up synthetic segmentation"
   ]
  },
  {
   "cell_type": "code",
   "execution_count": 124,
   "id": "0a99bda0",
   "metadata": {},
   "outputs": [],
   "source": [
    "botup_synthetic_cp = []\n",
    "for ts in X_synthetic:\n",
    "    model = \"l2\"  # \"l1\", \"rbf\", \"linear\", \"normal\", \"ar\"\n",
    "    number_regimes = 4\n",
    "    algo = rpt.detection.bottomup.BottomUp(model=model)\n",
    "    my_bkps = algo.fit_predict(ts, n_bkps=number_regimes)\n",
    "    botup_synthetic_cp.append(my_bkps)"
   ]
  },
  {
   "cell_type": "markdown",
   "id": "77348e1c",
   "metadata": {},
   "source": [
    "### Find Dynp synthetic Segmentation"
   ]
  },
  {
   "cell_type": "code",
   "execution_count": 125,
   "id": "42ea81e1",
   "metadata": {},
   "outputs": [],
   "source": [
    "dynp_synthetic_cp = []\n",
    "for ts in X_synthetic:\n",
    "    number_regimes = 4\n",
    "    model = \"l2\"  # \"l2\", \"rbf\"\n",
    "    algo = rpt.Dynp(model=model).fit(ts)\n",
    "    my_bkps = algo.predict(n_bkps=number_regimes)\n",
    "    dynp_synthetic_cp.append(my_bkps)"
   ]
  },
  {
   "cell_type": "markdown",
   "id": "7ed7b486",
   "metadata": {},
   "source": [
    "### FIND FLUSS, NNSegment, Botup, Dynp Apnea Change Points"
   ]
  },
  {
   "cell_type": "code",
   "execution_count": 170,
   "id": "f2d88e51",
   "metadata": {},
   "outputs": [],
   "source": [
    "ground_truth_apnea_cp = []\n",
    "NNSegment_apnea_cp = []\n",
    "FLUSS_apnea_cp = []\n",
    "botup_apnea_cp = []\n",
    "dynp_apnea_cp = []\n",
    "\n",
    "\n",
    "for i in range(0,len(simple_ecgs)):\n",
    "    labels = annotations[i]\n",
    "    signal = simple_ecgs[i]\n",
    "    number_regimes = 1\n",
    "    N_indexes = []\n",
    "\n",
    "    for label_index in range(0,len(labels)-1):\n",
    "        if labels[label_index] != labels[label_index + 1]:\n",
    "            number_regimes += 1\n",
    "            N_indexes.append((label_index+1)*60)\n",
    "    \n",
    "    ground_truth_apnea_cp.append(N_indexes)\n",
    "    NNSegment_apnea_cp.append(NNSegment(signal,60,number_regimes-1,))\n",
    "    m = 60\n",
    "    mp = stumpy.stump(signal, m=m)\n",
    "    L = 60\n",
    "    cac, regime_locations = stumpy.fluss(mp[:, 1], L=L, n_regimes=number_regimes, excl_factor=5)\n",
    "    FLUSS_apnea_cp.append(regime_locations)\n",
    "    model = \"l2\"  # \"l1\", \"rbf\", \"linear\", \"normal\", \"ar\"\n",
    "    algo = rpt.detection.bottomup.BottomUp(model=model)\n",
    "    my_bkps = algo.fit_predict(signal, n_bkps=number_regimes)\n",
    "    botup_apnea_cp.append(my_bkps)\n",
    "    model = \"l2\"  # \"l2\", \"rbf\"\n",
    "    algo = rpt.Dynp(model=model).fit(ts)\n",
    "    my_bkps = algo.predict(n_bkps=number_regimes)\n",
    "    dynp_apnea_cp.append(my_bkps)"
   ]
  },
  {
   "cell_type": "code",
   "execution_count": 171,
   "id": "7e453063",
   "metadata": {},
   "outputs": [],
   "source": [
    "FLUSS_apnea_cps = []\n",
    "for sample in FLUSS_apnea_cp:\n",
    "    FLUSS_apnea_cps.append(sample.sort())"
   ]
  },
  {
   "cell_type": "code",
   "execution_count": 172,
   "id": "8abdca2a",
   "metadata": {},
   "outputs": [],
   "source": [
    "def calculate_Fscore(cps, ground_truths, time_series):\n",
    "    samples_hits = []\n",
    "    total_true_cp = 0\n",
    "    total_predicted_cp = 0\n",
    "    wrong_score = 0\n",
    "    for sample_idx in range(0,len(cps)):\n",
    "        sample_hits = 0\n",
    "        tolerance = len(time_series[sample_idx])/10\n",
    "        ground_truth = ground_truths[sample_idx]\n",
    "        total_predicted_cp += len(cps[sample_idx])\n",
    "        total_true_cp += len(ground_truth)\n",
    "        cp_regions = []\n",
    "        for gt_cps in ground_truth: \n",
    "            cp_regions.append(list(np.arange(gt_cps-tolerance,gt_cps+tolerance)))\n",
    "        \n",
    "        cp_possible = [item for sublist in cp_regions for item in sublist]\n",
    "        \n",
    "        \n",
    "        for i in cps[sample_idx]:\n",
    "                if i in cp_possible:\n",
    "                    sample_hits = sample_hits + 1\n",
    "        samples_hits.append(sample_hits)\n",
    "                \n",
    "    \n",
    "    \n",
    "    precision = sum(samples_hits)/(total_predicted_cp)\n",
    "\n",
    "    recall = sum(samples_hits)/(total_true_cp)\n",
    "    \n",
    "    return 2 * (precision * recall)/(precision + recall+1)"
   ]
  },
  {
   "cell_type": "markdown",
   "id": "bb405fd4",
   "metadata": {},
   "source": [
    "### Calculate F Score on change points for synthetic and apnea datasets"
   ]
  },
  {
   "cell_type": "code",
   "execution_count": 173,
   "id": "c54e682b",
   "metadata": {},
   "outputs": [
    {
     "name": "stdout",
     "output_type": "stream",
     "text": [
      "0.664440734557596\n",
      "0.0\n",
      "0.28034466251795115\n",
      "0.2300102354145343\n",
      "0.2330866807610994\n",
      "0.24030246069719755\n",
      "0.25788217678161995\n",
      "0.20029729668027163\n"
     ]
    }
   ],
   "source": [
    "\n",
    "print(calculate_Fscore(NNSegment_synthetic_cp, ground_truth_synthetic, X_synthetic))\n",
    "print(calculate_Fscore(FLUSS_synthetic_cp, ground_truth_synthetic, X_synthetic))\n",
    "print(calculate_Fscore(botup_synthetic_cp, ground_truth_synthetic, X_synthetic))\n",
    "print(calculate_Fscore(dynp_synthetic_cp, ground_truth_synthetic, X_synthetic))\n",
    "\n",
    "print(calculate_Fscore(NNSegment_apnea_cp, ground_truth_apnea_cp, simple_ecgs))\n",
    "print(calculate_Fscore(FLUSS_apnea_cp, ground_truth_apnea_cp, simple_ecgs))\n",
    "print(calculate_Fscore(botup_apnea_cp, ground_truth_apnea_cp, simple_ecgs))\n",
    "print(calculate_Fscore(dynp_apnea_cp, ground_truth_apnea_cp, simple_ecgs))\n"
   ]
  },
  {
   "cell_type": "code",
   "execution_count": 174,
   "id": "f02ed4ac",
   "metadata": {},
   "outputs": [],
   "source": [
    "def calculate_hausdorff(cps, ground_truths, ts):\n",
    "    samples_hausdorff = []\n",
    "    wrong_score = 0\n",
    "    for sample in range(0,len(cps)):\n",
    "        max_distance = 0\n",
    "        ground_truth = ground_truths[sample][:len(cps[sample])]\n",
    "        for i in range(0,len(ground_truth)):\n",
    "            if np.abs(cps[sample][i]-ground_truth[i]) > max_distance:\n",
    "                max_distance = np.abs(cps[sample][i]-ground_truth[i])\n",
    "        samples_hausdorff.append(max_distance/len(ts[sample]))\n",
    "\n",
    "    return np.mean(samples_hausdorff)"
   ]
  },
  {
   "cell_type": "markdown",
   "id": "59ed2534",
   "metadata": {},
   "source": [
    "### Calculate Hausdorff measure on change points for synthetic and apnea datasets"
   ]
  },
  {
   "cell_type": "code",
   "execution_count": 175,
   "id": "895f755e",
   "metadata": {},
   "outputs": [
    {
     "name": "stdout",
     "output_type": "stream",
     "text": [
      "0.08012000000000001\n",
      "0.6000000000000001\n",
      "0.33520000000000005\n",
      "0.3668\n"
     ]
    }
   ],
   "source": [
    "print(calculate_hausdorff(NNSegment_synthetic_cp, ground_truth_synthetic, X_synthetic))\n",
    "print(calculate_hausdorff(FLUSS_synthetic_cp, ground_truth_synthetic, X_synthetic))\n",
    "print(calculate_hausdorff(botup_synthetic_cp, ground_truth_synthetic, X_synthetic))\n",
    "print(calculate_hausdorff(dynp_synthetic_cp, ground_truth_synthetic, X_synthetic))"
   ]
  },
  {
   "cell_type": "code",
   "execution_count": 176,
   "id": "0cf25485",
   "metadata": {},
   "outputs": [
    {
     "name": "stdout",
     "output_type": "stream",
     "text": [
      "0.34589008750037065\n",
      "0.3971152349175042\n",
      "0.3990815790351534\n",
      "0.7395672626989985\n"
     ]
    }
   ],
   "source": [
    "print(calculate_hausdorff(NNSegment_apnea_cp, ground_truth_apnea_cp, simple_ecgs))\n",
    "print(calculate_hausdorff(FLUSS_apnea_cp, ground_truth_apnea_cp, simple_ecgs))\n",
    "print(calculate_hausdorff(botup_apnea_cp, ground_truth_apnea_cp, simple_ecgs))\n",
    "print(calculate_hausdorff(dynp_apnea_cp, ground_truth_apnea_cp, simple_ecgs))"
   ]
  },
  {
   "cell_type": "code",
   "execution_count": null,
   "id": "838e69bf",
   "metadata": {},
   "outputs": [],
   "source": []
  }
 ],
 "metadata": {
  "kernelspec": {
   "display_name": "Python 3 (ipykernel)",
   "language": "python",
   "name": "python3"
  },
  "language_info": {
   "codemirror_mode": {
    "name": "ipython",
    "version": 3
   },
   "file_extension": ".py",
   "mimetype": "text/x-python",
   "name": "python",
   "nbconvert_exporter": "python",
   "pygments_lexer": "ipython3",
   "version": "3.9.6"
  }
 },
 "nbformat": 4,
 "nbformat_minor": 5
}

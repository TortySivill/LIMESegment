{
 "cells": [
  {
   "cell_type": "code",
   "execution_count": 3,
   "id": "8bd12946",
   "metadata": {},
   "outputs": [],
   "source": [
    "import numpy as np\n",
    "import matplotlib.pyplot as plt\n",
    "import warnings\n",
    "warnings.filterwarnings('ignore')"
   ]
  },
  {
   "cell_type": "code",
   "execution_count": 4,
   "id": "85202744",
   "metadata": {},
   "outputs": [],
   "source": [
    "import sys\n",
    "sys.path.append('../')\n",
    "from Utils.models import *\n",
    "from Utils.data import generateSynthetic, loadUCRDataID\n",
    "from Utils.explanations import LIMESegment"
   ]
  },
  {
   "cell_type": "markdown",
   "id": "6bcc2026",
   "metadata": {},
   "source": [
    "### Load Simple Synthetic Test Set and Train CNN Model "
   ]
  },
  {
   "cell_type": "code",
   "execution_count": 5,
   "id": "e3688bb0",
   "metadata": {},
   "outputs": [],
   "source": [
    "x_train, y_train, x_test_original, y_test_original = generateSynthetic('locality', 500, 10)"
   ]
  },
  {
   "cell_type": "code",
   "execution_count": 6,
   "id": "4448203d",
   "metadata": {},
   "outputs": [
    {
     "name": "stderr",
     "output_type": "stream",
     "text": [
      "2022-02-25 10:27:21.623170: I tensorflow/core/platform/cpu_feature_guard.cc:142] This TensorFlow binary is optimized with oneAPI Deep Neural Network Library (oneDNN) to use the following CPU instructions in performance-critical operations:  AVX2 FMA\n",
      "To enable them in other operations, rebuild TensorFlow with the appropriate compiler flags.\n",
      "2022-02-25 10:27:22.602893: I tensorflow/compiler/mlir/mlir_graph_optimization_pass.cc:185] None of the MLIR Optimization Passes are enabled (registered 2)\n"
     ]
    },
    {
     "name": "stdout",
     "output_type": "stream",
     "text": [
      "Epoch 1/50\n",
      "13/13 [==============================] - 19s 935ms/step - loss: 0.6428 - sparse_categorical_accuracy: 0.8300 - val_loss: 0.6866 - val_sparse_categorical_accuracy: 0.9800\n",
      "Epoch 2/50\n",
      "13/13 [==============================] - 9s 643ms/step - loss: 0.4845 - sparse_categorical_accuracy: 1.0000 - val_loss: 0.6777 - val_sparse_categorical_accuracy: 0.5050\n",
      "Epoch 3/50\n",
      "13/13 [==============================] - 11s 865ms/step - loss: 0.3512 - sparse_categorical_accuracy: 1.0000 - val_loss: 0.7116 - val_sparse_categorical_accuracy: 0.5050\n",
      "Epoch 4/50\n",
      "13/13 [==============================] - 10s 702ms/step - loss: 0.2487 - sparse_categorical_accuracy: 1.0000 - val_loss: 0.8680 - val_sparse_categorical_accuracy: 0.5050\n",
      "Epoch 5/50\n",
      "13/13 [==============================] - 11s 862ms/step - loss: 0.1615 - sparse_categorical_accuracy: 1.0000 - val_loss: 1.2245 - val_sparse_categorical_accuracy: 0.5050\n",
      "Epoch 6/50\n",
      "13/13 [==============================] - 8s 657ms/step - loss: 0.1064 - sparse_categorical_accuracy: 1.0000 - val_loss: 1.7975 - val_sparse_categorical_accuracy: 0.5050\n",
      "Epoch 7/50\n",
      "13/13 [==============================] - 10s 784ms/step - loss: 0.0774 - sparse_categorical_accuracy: 1.0000 - val_loss: 2.5312 - val_sparse_categorical_accuracy: 0.5050\n",
      "Epoch 8/50\n",
      "13/13 [==============================] - 9s 712ms/step - loss: 0.0578 - sparse_categorical_accuracy: 1.0000 - val_loss: 3.4240 - val_sparse_categorical_accuracy: 0.5050\n",
      "Epoch 9/50\n",
      "13/13 [==============================] - 10s 762ms/step - loss: 0.0442 - sparse_categorical_accuracy: 1.0000 - val_loss: 4.3155 - val_sparse_categorical_accuracy: 0.5050\n",
      "Epoch 10/50\n",
      "13/13 [==============================] - 10s 758ms/step - loss: 0.0362 - sparse_categorical_accuracy: 1.0000 - val_loss: 5.2034 - val_sparse_categorical_accuracy: 0.5050\n",
      "Epoch 11/50\n",
      "13/13 [==============================] - 9s 712ms/step - loss: 0.0288 - sparse_categorical_accuracy: 1.0000 - val_loss: 5.9469 - val_sparse_categorical_accuracy: 0.5050\n",
      "Epoch 12/50\n",
      "13/13 [==============================] - 10s 763ms/step - loss: 0.0255 - sparse_categorical_accuracy: 1.0000 - val_loss: 6.6230 - val_sparse_categorical_accuracy: 0.5050\n",
      "Epoch 13/50\n",
      "13/13 [==============================] - 8s 578ms/step - loss: 0.0218 - sparse_categorical_accuracy: 1.0000 - val_loss: 7.1804 - val_sparse_categorical_accuracy: 0.5050\n",
      "Epoch 14/50\n",
      "13/13 [==============================] - 8s 588ms/step - loss: 0.0182 - sparse_categorical_accuracy: 1.0000 - val_loss: 7.6822 - val_sparse_categorical_accuracy: 0.5050\n",
      "Epoch 15/50\n",
      "13/13 [==============================] - 5s 392ms/step - loss: 0.0166 - sparse_categorical_accuracy: 1.0000 - val_loss: 7.8310 - val_sparse_categorical_accuracy: 0.5050\n",
      "Epoch 16/50\n",
      "13/13 [==============================] - 4s 333ms/step - loss: 0.0150 - sparse_categorical_accuracy: 1.0000 - val_loss: 8.2480 - val_sparse_categorical_accuracy: 0.5050\n",
      "Epoch 17/50\n",
      "13/13 [==============================] - 5s 426ms/step - loss: 0.0122 - sparse_categorical_accuracy: 1.0000 - val_loss: 8.1527 - val_sparse_categorical_accuracy: 0.5050\n",
      "Epoch 18/50\n",
      "13/13 [==============================] - 6s 463ms/step - loss: 0.0137 - sparse_categorical_accuracy: 1.0000 - val_loss: 8.1379 - val_sparse_categorical_accuracy: 0.5050\n",
      "Epoch 19/50\n",
      "13/13 [==============================] - 4s 297ms/step - loss: 0.0115 - sparse_categorical_accuracy: 1.0000 - val_loss: 7.9712 - val_sparse_categorical_accuracy: 0.5050\n",
      "Epoch 20/50\n",
      "13/13 [==============================] - 4s 295ms/step - loss: 0.0107 - sparse_categorical_accuracy: 1.0000 - val_loss: 7.8390 - val_sparse_categorical_accuracy: 0.5050\n",
      "Epoch 21/50\n",
      "13/13 [==============================] - 5s 410ms/step - loss: 0.0098 - sparse_categorical_accuracy: 1.0000 - val_loss: 7.9239 - val_sparse_categorical_accuracy: 0.5050\n",
      "Epoch 22/50\n",
      "13/13 [==============================] - 5s 404ms/step - loss: 0.0081 - sparse_categorical_accuracy: 1.0000 - val_loss: 7.3325 - val_sparse_categorical_accuracy: 0.5050\n",
      "Epoch 23/50\n",
      "13/13 [==============================] - 4s 288ms/step - loss: 0.0082 - sparse_categorical_accuracy: 1.0000 - val_loss: 7.2415 - val_sparse_categorical_accuracy: 0.5050\n",
      "Epoch 24/50\n",
      "13/13 [==============================] - 4s 311ms/step - loss: 0.0078 - sparse_categorical_accuracy: 1.0000 - val_loss: 6.2749 - val_sparse_categorical_accuracy: 0.5050\n",
      "Epoch 25/50\n",
      "13/13 [==============================] - 6s 462ms/step - loss: 0.0074 - sparse_categorical_accuracy: 1.0000 - val_loss: 6.1492 - val_sparse_categorical_accuracy: 0.5050\n",
      "Epoch 26/50\n",
      "13/13 [==============================] - 4s 323ms/step - loss: 0.0062 - sparse_categorical_accuracy: 1.0000 - val_loss: 5.7450 - val_sparse_categorical_accuracy: 0.5050\n",
      "Epoch 27/50\n",
      "13/13 [==============================] - 4s 291ms/step - loss: 0.0058 - sparse_categorical_accuracy: 1.0000 - val_loss: 5.1907 - val_sparse_categorical_accuracy: 0.5050\n",
      "Epoch 28/50\n",
      "13/13 [==============================] - 5s 402ms/step - loss: 0.0058 - sparse_categorical_accuracy: 1.0000 - val_loss: 4.2241 - val_sparse_categorical_accuracy: 0.5050\n",
      "Epoch 29/50\n",
      "13/13 [==============================] - 5s 396ms/step - loss: 0.0061 - sparse_categorical_accuracy: 1.0000 - val_loss: 4.5942 - val_sparse_categorical_accuracy: 0.5050\n",
      "Epoch 30/50\n",
      "13/13 [==============================] - 4s 293ms/step - loss: 0.0047 - sparse_categorical_accuracy: 1.0000 - val_loss: 3.0073 - val_sparse_categorical_accuracy: 0.5050\n",
      "Epoch 31/50\n",
      "13/13 [==============================] - 5s 358ms/step - loss: 0.0052 - sparse_categorical_accuracy: 1.0000 - val_loss: 2.8196 - val_sparse_categorical_accuracy: 0.5050\n",
      "Epoch 32/50\n",
      "13/13 [==============================] - 6s 474ms/step - loss: 0.0062 - sparse_categorical_accuracy: 1.0000 - val_loss: 2.4304 - val_sparse_categorical_accuracy: 0.5050\n",
      "Epoch 33/50\n",
      "13/13 [==============================] - 4s 308ms/step - loss: 0.0056 - sparse_categorical_accuracy: 1.0000 - val_loss: 0.2859 - val_sparse_categorical_accuracy: 0.9450\n",
      "Epoch 34/50\n",
      "13/13 [==============================] - 4s 306ms/step - loss: 0.0042 - sparse_categorical_accuracy: 1.0000 - val_loss: 1.2886 - val_sparse_categorical_accuracy: 0.5050\n",
      "Epoch 35/50\n",
      "13/13 [==============================] - 5s 383ms/step - loss: 0.0037 - sparse_categorical_accuracy: 1.0000 - val_loss: 0.8361 - val_sparse_categorical_accuracy: 0.5050\n",
      "Epoch 36/50\n",
      "13/13 [==============================] - 6s 474ms/step - loss: 0.0033 - sparse_categorical_accuracy: 1.0000 - val_loss: 0.3375 - val_sparse_categorical_accuracy: 0.8250\n",
      "Epoch 37/50\n",
      "13/13 [==============================] - 4s 292ms/step - loss: 0.0029 - sparse_categorical_accuracy: 1.0000 - val_loss: 0.4220 - val_sparse_categorical_accuracy: 0.5400\n",
      "Epoch 38/50\n",
      "13/13 [==============================] - 4s 290ms/step - loss: 0.0030 - sparse_categorical_accuracy: 1.0000 - val_loss: 0.4708 - val_sparse_categorical_accuracy: 0.5150\n",
      "Epoch 39/50\n",
      "13/13 [==============================] - 4s 337ms/step - loss: 0.0030 - sparse_categorical_accuracy: 1.0000 - val_loss: 0.1041 - val_sparse_categorical_accuracy: 1.0000\n",
      "Epoch 40/50\n",
      "13/13 [==============================] - 6s 463ms/step - loss: 0.0023 - sparse_categorical_accuracy: 1.0000 - val_loss: 0.3071 - val_sparse_categorical_accuracy: 0.9000\n",
      "Epoch 41/50\n",
      "13/13 [==============================] - 4s 292ms/step - loss: 0.0023 - sparse_categorical_accuracy: 1.0000 - val_loss: 0.0614 - val_sparse_categorical_accuracy: 1.0000\n",
      "Epoch 42/50\n",
      "13/13 [==============================] - 4s 288ms/step - loss: 0.0025 - sparse_categorical_accuracy: 1.0000 - val_loss: 0.0720 - val_sparse_categorical_accuracy: 1.0000\n",
      "Epoch 43/50\n",
      "13/13 [==============================] - 5s 427ms/step - loss: 0.0025 - sparse_categorical_accuracy: 1.0000 - val_loss: 0.0470 - val_sparse_categorical_accuracy: 1.0000\n",
      "Epoch 44/50\n",
      "13/13 [==============================] - 5s 353ms/step - loss: 0.0022 - sparse_categorical_accuracy: 1.0000 - val_loss: 0.0175 - val_sparse_categorical_accuracy: 1.0000\n",
      "Epoch 45/50\n",
      "13/13 [==============================] - 4s 298ms/step - loss: 0.0024 - sparse_categorical_accuracy: 1.0000 - val_loss: 0.0242 - val_sparse_categorical_accuracy: 1.0000\n",
      "Epoch 46/50\n"
     ]
    },
    {
     "name": "stdout",
     "output_type": "stream",
     "text": [
      "13/13 [==============================] - 5s 381ms/step - loss: 0.0020 - sparse_categorical_accuracy: 1.0000 - val_loss: 0.0137 - val_sparse_categorical_accuracy: 1.0000\n",
      "Epoch 47/50\n",
      "13/13 [==============================] - 6s 461ms/step - loss: 0.0025 - sparse_categorical_accuracy: 1.0000 - val_loss: 0.0069 - val_sparse_categorical_accuracy: 1.0000\n",
      "Epoch 48/50\n",
      "13/13 [==============================] - 4s 294ms/step - loss: 0.0021 - sparse_categorical_accuracy: 1.0000 - val_loss: 0.0119 - val_sparse_categorical_accuracy: 1.0000\n",
      "Epoch 49/50\n",
      "13/13 [==============================] - 4s 292ms/step - loss: 0.0022 - sparse_categorical_accuracy: 1.0000 - val_loss: 0.0059 - val_sparse_categorical_accuracy: 1.0000\n",
      "Epoch 50/50\n",
      "13/13 [==============================] - 5s 394ms/step - loss: 0.0018 - sparse_categorical_accuracy: 1.0000 - val_loss: 0.0044 - val_sparse_categorical_accuracy: 1.0000\n"
     ]
    }
   ],
   "source": [
    "model = make_CNN_model(x_train.shape[1:])\n",
    "trained_model, history = train_CNN_model(model, x_train, y_train, epochs=50)"
   ]
  },
  {
   "cell_type": "code",
   "execution_count": 7,
   "id": "71a5140f",
   "metadata": {},
   "outputs": [
    {
     "name": "stdout",
     "output_type": "stream",
     "text": [
      "1/1 [==============================] - 0s 75ms/step - loss: 0.0045 - sparse_categorical_accuracy: 1.0000\n",
      "Test accuracy 1.0\n",
      "Test loss 0.004484739154577255\n"
     ]
    }
   ],
   "source": [
    "test_loss, test_acc = trained_model.evaluate(x_test_original, y_test_original)\n",
    "\n",
    "print(\"Test accuracy\", test_acc)\n",
    "print(\"Test loss\", test_loss)\n",
    "\n",
    "predictions = trained_model.predict(x_test_original)"
   ]
  },
  {
   "cell_type": "markdown",
   "id": "4879e72c",
   "metadata": {},
   "source": [
    "### Generate explanations for every instance in simple synthetic test set"
   ]
  },
  {
   "cell_type": "code",
   "execution_count": 8,
   "id": "51707919",
   "metadata": {},
   "outputs": [],
   "source": [
    "def rssi(sorted_indexes):\n",
    "    overall_count = 0\n",
    "    concordance_count = 0\n",
    "    for i in sorted_indexes:\n",
    "        for j in sorted_indexes:\n",
    "            for k in range(0,(len(j))):\n",
    "                if i[k] == j[k]:\n",
    "                    concordance_count += 1\n",
    "                overall_count += 1\n",
    "    return concordance_count/overall_count "
   ]
  },
  {
   "cell_type": "markdown",
   "id": "6380b9f1",
   "metadata": {},
   "source": [
    "### Evaluate RSSI Metric for Simple Synthetic Test Set "
   ]
  },
  {
   "cell_type": "code",
   "execution_count": 9,
   "id": "2e3258bc",
   "metadata": {},
   "outputs": [
    {
     "ename": "KeyboardInterrupt",
     "evalue": "",
     "output_type": "error",
     "traceback": [
      "\u001b[0;31m---------------------------------------------------------------------------\u001b[0m",
      "\u001b[0;31mKeyboardInterrupt\u001b[0m                         Traceback (most recent call last)",
      "\u001b[0;32m/var/folders/wr/6tlhy1dx1qn8mdpd33lflg3m0000gn/T/ipykernel_5243/2350352524.py\u001b[0m in \u001b[0;36m<module>\u001b[0;34m\u001b[0m\n\u001b[1;32m      4\u001b[0m     \u001b[0mrankings\u001b[0m \u001b[0;34m=\u001b[0m \u001b[0;34m[\u001b[0m\u001b[0;34m]\u001b[0m\u001b[0;34m\u001b[0m\u001b[0;34m\u001b[0m\u001b[0m\n\u001b[1;32m      5\u001b[0m     \u001b[0;32mfor\u001b[0m \u001b[0m_\u001b[0m \u001b[0;32min\u001b[0m \u001b[0mrange\u001b[0m\u001b[0;34m(\u001b[0m\u001b[0;36m10\u001b[0m\u001b[0;34m)\u001b[0m\u001b[0;34m:\u001b[0m\u001b[0;34m\u001b[0m\u001b[0;34m\u001b[0m\u001b[0m\n\u001b[0;32m----> 6\u001b[0;31m         \u001b[0mdtw_explanation\u001b[0m \u001b[0;34m=\u001b[0m \u001b[0mLIMESegment\u001b[0m\u001b[0;34m(\u001b[0m\u001b[0mtest_point\u001b[0m\u001b[0;34m.\u001b[0m\u001b[0mreshape\u001b[0m\u001b[0;34m(\u001b[0m\u001b[0;36m1000\u001b[0m\u001b[0;34m)\u001b[0m\u001b[0;34m,\u001b[0m \u001b[0mtrained_model\u001b[0m\u001b[0;34m,\u001b[0m \u001b[0mmodel_type\u001b[0m\u001b[0;34m=\u001b[0m\u001b[0;34m'proba'\u001b[0m\u001b[0;34m,\u001b[0m \u001b[0mdistance\u001b[0m\u001b[0;34m=\u001b[0m\u001b[0;34m'dtw'\u001b[0m\u001b[0;34m,\u001b[0m \u001b[0mn\u001b[0m\u001b[0;34m=\u001b[0m\u001b[0;36m100\u001b[0m\u001b[0;34m,\u001b[0m \u001b[0mcp\u001b[0m\u001b[0;34m=\u001b[0m\u001b[0;36m6\u001b[0m\u001b[0;34m)\u001b[0m\u001b[0;34m\u001b[0m\u001b[0;34m\u001b[0m\u001b[0m\n\u001b[0m\u001b[1;32m      7\u001b[0m         \u001b[0mrankings\u001b[0m\u001b[0;34m.\u001b[0m\u001b[0mappend\u001b[0m\u001b[0;34m(\u001b[0m\u001b[0mnp\u001b[0m\u001b[0;34m.\u001b[0m\u001b[0masarray\u001b[0m\u001b[0;34m(\u001b[0m\u001b[0mdtw_explanation\u001b[0m\u001b[0;34m[\u001b[0m\u001b[0;36m0\u001b[0m\u001b[0;34m]\u001b[0m\u001b[0;34m)\u001b[0m\u001b[0;34m.\u001b[0m\u001b[0margsort\u001b[0m\u001b[0;34m(\u001b[0m\u001b[0;34m)\u001b[0m\u001b[0;34m)\u001b[0m\u001b[0;34m\u001b[0m\u001b[0;34m\u001b[0m\u001b[0m\n\u001b[1;32m      8\u001b[0m \u001b[0;34m\u001b[0m\u001b[0m\n",
      "\u001b[0;32m~/Downloads/phd/projects/1/LIMESegment_refactor/Experiments/../Utils/explanations.py\u001b[0m in \u001b[0;36mLIMESegment\u001b[0;34m(example, model, model_type, distance, n, window_size, cp, f)\u001b[0m\n\u001b[1;32m    104\u001b[0m     \u001b[0mgenerated_samples_raw\u001b[0m \u001b[0;34m=\u001b[0m \u001b[0mRBP\u001b[0m\u001b[0;34m(\u001b[0m\u001b[0mgenerated_samples_interpretable\u001b[0m\u001b[0;34m,\u001b[0m \u001b[0mexample\u001b[0m\u001b[0;34m,\u001b[0m \u001b[0msegment_indexes\u001b[0m\u001b[0;34m,\u001b[0m \u001b[0mf\u001b[0m\u001b[0;34m)\u001b[0m\u001b[0;34m\u001b[0m\u001b[0;34m\u001b[0m\u001b[0m\n\u001b[1;32m    105\u001b[0m     \u001b[0msample_predictions\u001b[0m \u001b[0;34m=\u001b[0m \u001b[0mmodel\u001b[0m\u001b[0;34m.\u001b[0m\u001b[0mpredict\u001b[0m\u001b[0;34m(\u001b[0m\u001b[0mgenerated_samples_raw\u001b[0m\u001b[0;34m)\u001b[0m\u001b[0;34m\u001b[0m\u001b[0;34m\u001b[0m\u001b[0m\n\u001b[0;32m--> 106\u001b[0;31m     \u001b[0;32mif\u001b[0m \u001b[0mmodel_type\u001b[0m \u001b[0;34m==\u001b[0m \u001b[0;34m'proba'\u001b[0m\u001b[0;34m:\u001b[0m\u001b[0;34m\u001b[0m\u001b[0;34m\u001b[0m\u001b[0m\n\u001b[0m\u001b[1;32m    107\u001b[0m         \u001b[0my_labels\u001b[0m \u001b[0;34m=\u001b[0m \u001b[0mnp\u001b[0m\u001b[0;34m.\u001b[0m\u001b[0margmax\u001b[0m\u001b[0;34m(\u001b[0m\u001b[0msample_predictions\u001b[0m\u001b[0;34m,\u001b[0m \u001b[0maxis\u001b[0m\u001b[0;34m=\u001b[0m\u001b[0;36m1\u001b[0m\u001b[0;34m)\u001b[0m\u001b[0;34m\u001b[0m\u001b[0;34m\u001b[0m\u001b[0m\n\u001b[1;32m    108\u001b[0m     \u001b[0;32melse\u001b[0m\u001b[0;34m:\u001b[0m\u001b[0;34m\u001b[0m\u001b[0;34m\u001b[0m\u001b[0m\n",
      "\u001b[0;32m~/Downloads/phd/projects/1/LIMESegment_refactor/Experiments/../Utils/explanations.py\u001b[0m in \u001b[0;36m<listcomp>\u001b[0;34m(.0)\u001b[0m\n\u001b[1;32m    104\u001b[0m     \u001b[0mgenerated_samples_raw\u001b[0m \u001b[0;34m=\u001b[0m \u001b[0mRBP\u001b[0m\u001b[0;34m(\u001b[0m\u001b[0mgenerated_samples_interpretable\u001b[0m\u001b[0;34m,\u001b[0m \u001b[0mexample\u001b[0m\u001b[0;34m,\u001b[0m \u001b[0msegment_indexes\u001b[0m\u001b[0;34m,\u001b[0m \u001b[0mf\u001b[0m\u001b[0;34m)\u001b[0m\u001b[0;34m\u001b[0m\u001b[0;34m\u001b[0m\u001b[0m\n\u001b[1;32m    105\u001b[0m     \u001b[0msample_predictions\u001b[0m \u001b[0;34m=\u001b[0m \u001b[0mmodel\u001b[0m\u001b[0;34m.\u001b[0m\u001b[0mpredict\u001b[0m\u001b[0;34m(\u001b[0m\u001b[0mgenerated_samples_raw\u001b[0m\u001b[0;34m)\u001b[0m\u001b[0;34m\u001b[0m\u001b[0;34m\u001b[0m\u001b[0m\n\u001b[0;32m--> 106\u001b[0;31m     \u001b[0;32mif\u001b[0m \u001b[0mmodel_type\u001b[0m \u001b[0;34m==\u001b[0m \u001b[0;34m'proba'\u001b[0m\u001b[0;34m:\u001b[0m\u001b[0;34m\u001b[0m\u001b[0;34m\u001b[0m\u001b[0m\n\u001b[0m\u001b[1;32m    107\u001b[0m         \u001b[0my_labels\u001b[0m \u001b[0;34m=\u001b[0m \u001b[0mnp\u001b[0m\u001b[0;34m.\u001b[0m\u001b[0margmax\u001b[0m\u001b[0;34m(\u001b[0m\u001b[0msample_predictions\u001b[0m\u001b[0;34m,\u001b[0m \u001b[0maxis\u001b[0m\u001b[0;34m=\u001b[0m\u001b[0;36m1\u001b[0m\u001b[0;34m)\u001b[0m\u001b[0;34m\u001b[0m\u001b[0;34m\u001b[0m\u001b[0m\n\u001b[1;32m    108\u001b[0m     \u001b[0;32melse\u001b[0m\u001b[0;34m:\u001b[0m\u001b[0;34m\u001b[0m\u001b[0;34m\u001b[0m\u001b[0m\n",
      "\u001b[0;32m/usr/local/lib/python3.9/site-packages/fastdtw/fastdtw.py\u001b[0m in \u001b[0;36mfastdtw\u001b[0;34m(x, y, radius, dist)\u001b[0m\n\u001b[1;32m     51\u001b[0m     '''\n\u001b[1;32m     52\u001b[0m     \u001b[0mx\u001b[0m\u001b[0;34m,\u001b[0m \u001b[0my\u001b[0m\u001b[0;34m,\u001b[0m \u001b[0mdist\u001b[0m \u001b[0;34m=\u001b[0m \u001b[0m__prep_inputs\u001b[0m\u001b[0;34m(\u001b[0m\u001b[0mx\u001b[0m\u001b[0;34m,\u001b[0m \u001b[0my\u001b[0m\u001b[0;34m,\u001b[0m \u001b[0mdist\u001b[0m\u001b[0;34m)\u001b[0m\u001b[0;34m\u001b[0m\u001b[0;34m\u001b[0m\u001b[0m\n\u001b[0;32m---> 53\u001b[0;31m     \u001b[0;32mreturn\u001b[0m \u001b[0m__fastdtw\u001b[0m\u001b[0;34m(\u001b[0m\u001b[0mx\u001b[0m\u001b[0;34m,\u001b[0m \u001b[0my\u001b[0m\u001b[0;34m,\u001b[0m \u001b[0mradius\u001b[0m\u001b[0;34m,\u001b[0m \u001b[0mdist\u001b[0m\u001b[0;34m)\u001b[0m\u001b[0;34m\u001b[0m\u001b[0;34m\u001b[0m\u001b[0m\n\u001b[0m\u001b[1;32m     54\u001b[0m \u001b[0;34m\u001b[0m\u001b[0m\n\u001b[1;32m     55\u001b[0m \u001b[0;34m\u001b[0m\u001b[0m\n",
      "\u001b[0;32m/usr/local/lib/python3.9/site-packages/fastdtw/fastdtw.py\u001b[0m in \u001b[0;36m__fastdtw\u001b[0;34m(x, y, radius, dist)\u001b[0m\n\u001b[1;32m     71\u001b[0m     \u001b[0my_shrinked\u001b[0m \u001b[0;34m=\u001b[0m \u001b[0m__reduce_by_half\u001b[0m\u001b[0;34m(\u001b[0m\u001b[0my\u001b[0m\u001b[0;34m)\u001b[0m\u001b[0;34m\u001b[0m\u001b[0;34m\u001b[0m\u001b[0m\n\u001b[1;32m     72\u001b[0m     \u001b[0mdistance\u001b[0m\u001b[0;34m,\u001b[0m \u001b[0mpath\u001b[0m \u001b[0;34m=\u001b[0m\u001b[0;31m \u001b[0m\u001b[0;31m\\\u001b[0m\u001b[0;34m\u001b[0m\u001b[0;34m\u001b[0m\u001b[0m\n\u001b[0;32m---> 73\u001b[0;31m         \u001b[0m__fastdtw\u001b[0m\u001b[0;34m(\u001b[0m\u001b[0mx_shrinked\u001b[0m\u001b[0;34m,\u001b[0m \u001b[0my_shrinked\u001b[0m\u001b[0;34m,\u001b[0m \u001b[0mradius\u001b[0m\u001b[0;34m=\u001b[0m\u001b[0mradius\u001b[0m\u001b[0;34m,\u001b[0m \u001b[0mdist\u001b[0m\u001b[0;34m=\u001b[0m\u001b[0mdist\u001b[0m\u001b[0;34m)\u001b[0m\u001b[0;34m\u001b[0m\u001b[0;34m\u001b[0m\u001b[0m\n\u001b[0m\u001b[1;32m     74\u001b[0m     \u001b[0mwindow\u001b[0m \u001b[0;34m=\u001b[0m \u001b[0m__expand_window\u001b[0m\u001b[0;34m(\u001b[0m\u001b[0mpath\u001b[0m\u001b[0;34m,\u001b[0m \u001b[0mlen\u001b[0m\u001b[0;34m(\u001b[0m\u001b[0mx\u001b[0m\u001b[0;34m)\u001b[0m\u001b[0;34m,\u001b[0m \u001b[0mlen\u001b[0m\u001b[0;34m(\u001b[0m\u001b[0my\u001b[0m\u001b[0;34m)\u001b[0m\u001b[0;34m,\u001b[0m \u001b[0mradius\u001b[0m\u001b[0;34m)\u001b[0m\u001b[0;34m\u001b[0m\u001b[0;34m\u001b[0m\u001b[0m\n\u001b[1;32m     75\u001b[0m     \u001b[0;32mreturn\u001b[0m \u001b[0m__dtw\u001b[0m\u001b[0;34m(\u001b[0m\u001b[0mx\u001b[0m\u001b[0;34m,\u001b[0m \u001b[0my\u001b[0m\u001b[0;34m,\u001b[0m \u001b[0mwindow\u001b[0m\u001b[0;34m,\u001b[0m \u001b[0mdist\u001b[0m\u001b[0;34m=\u001b[0m\u001b[0mdist\u001b[0m\u001b[0;34m)\u001b[0m\u001b[0;34m\u001b[0m\u001b[0;34m\u001b[0m\u001b[0m\n",
      "\u001b[0;32m/usr/local/lib/python3.9/site-packages/fastdtw/fastdtw.py\u001b[0m in \u001b[0;36m__fastdtw\u001b[0;34m(x, y, radius, dist)\u001b[0m\n\u001b[1;32m     71\u001b[0m     \u001b[0my_shrinked\u001b[0m \u001b[0;34m=\u001b[0m \u001b[0m__reduce_by_half\u001b[0m\u001b[0;34m(\u001b[0m\u001b[0my\u001b[0m\u001b[0;34m)\u001b[0m\u001b[0;34m\u001b[0m\u001b[0;34m\u001b[0m\u001b[0m\n\u001b[1;32m     72\u001b[0m     \u001b[0mdistance\u001b[0m\u001b[0;34m,\u001b[0m \u001b[0mpath\u001b[0m \u001b[0;34m=\u001b[0m\u001b[0;31m \u001b[0m\u001b[0;31m\\\u001b[0m\u001b[0;34m\u001b[0m\u001b[0;34m\u001b[0m\u001b[0m\n\u001b[0;32m---> 73\u001b[0;31m         \u001b[0m__fastdtw\u001b[0m\u001b[0;34m(\u001b[0m\u001b[0mx_shrinked\u001b[0m\u001b[0;34m,\u001b[0m \u001b[0my_shrinked\u001b[0m\u001b[0;34m,\u001b[0m \u001b[0mradius\u001b[0m\u001b[0;34m=\u001b[0m\u001b[0mradius\u001b[0m\u001b[0;34m,\u001b[0m \u001b[0mdist\u001b[0m\u001b[0;34m=\u001b[0m\u001b[0mdist\u001b[0m\u001b[0;34m)\u001b[0m\u001b[0;34m\u001b[0m\u001b[0;34m\u001b[0m\u001b[0m\n\u001b[0m\u001b[1;32m     74\u001b[0m     \u001b[0mwindow\u001b[0m \u001b[0;34m=\u001b[0m \u001b[0m__expand_window\u001b[0m\u001b[0;34m(\u001b[0m\u001b[0mpath\u001b[0m\u001b[0;34m,\u001b[0m \u001b[0mlen\u001b[0m\u001b[0;34m(\u001b[0m\u001b[0mx\u001b[0m\u001b[0;34m)\u001b[0m\u001b[0;34m,\u001b[0m \u001b[0mlen\u001b[0m\u001b[0;34m(\u001b[0m\u001b[0my\u001b[0m\u001b[0;34m)\u001b[0m\u001b[0;34m,\u001b[0m \u001b[0mradius\u001b[0m\u001b[0;34m)\u001b[0m\u001b[0;34m\u001b[0m\u001b[0;34m\u001b[0m\u001b[0m\n\u001b[1;32m     75\u001b[0m     \u001b[0;32mreturn\u001b[0m \u001b[0m__dtw\u001b[0m\u001b[0;34m(\u001b[0m\u001b[0mx\u001b[0m\u001b[0;34m,\u001b[0m \u001b[0my\u001b[0m\u001b[0;34m,\u001b[0m \u001b[0mwindow\u001b[0m\u001b[0;34m,\u001b[0m \u001b[0mdist\u001b[0m\u001b[0;34m=\u001b[0m\u001b[0mdist\u001b[0m\u001b[0;34m)\u001b[0m\u001b[0;34m\u001b[0m\u001b[0;34m\u001b[0m\u001b[0m\n",
      "\u001b[0;32m/usr/local/lib/python3.9/site-packages/fastdtw/fastdtw.py\u001b[0m in \u001b[0;36m__fastdtw\u001b[0;34m(x, y, radius, dist)\u001b[0m\n\u001b[1;32m     72\u001b[0m     \u001b[0mdistance\u001b[0m\u001b[0;34m,\u001b[0m \u001b[0mpath\u001b[0m \u001b[0;34m=\u001b[0m\u001b[0;31m \u001b[0m\u001b[0;31m\\\u001b[0m\u001b[0;34m\u001b[0m\u001b[0;34m\u001b[0m\u001b[0m\n\u001b[1;32m     73\u001b[0m         \u001b[0m__fastdtw\u001b[0m\u001b[0;34m(\u001b[0m\u001b[0mx_shrinked\u001b[0m\u001b[0;34m,\u001b[0m \u001b[0my_shrinked\u001b[0m\u001b[0;34m,\u001b[0m \u001b[0mradius\u001b[0m\u001b[0;34m=\u001b[0m\u001b[0mradius\u001b[0m\u001b[0;34m,\u001b[0m \u001b[0mdist\u001b[0m\u001b[0;34m=\u001b[0m\u001b[0mdist\u001b[0m\u001b[0;34m)\u001b[0m\u001b[0;34m\u001b[0m\u001b[0;34m\u001b[0m\u001b[0m\n\u001b[0;32m---> 74\u001b[0;31m     \u001b[0mwindow\u001b[0m \u001b[0;34m=\u001b[0m \u001b[0m__expand_window\u001b[0m\u001b[0;34m(\u001b[0m\u001b[0mpath\u001b[0m\u001b[0;34m,\u001b[0m \u001b[0mlen\u001b[0m\u001b[0;34m(\u001b[0m\u001b[0mx\u001b[0m\u001b[0;34m)\u001b[0m\u001b[0;34m,\u001b[0m \u001b[0mlen\u001b[0m\u001b[0;34m(\u001b[0m\u001b[0my\u001b[0m\u001b[0;34m)\u001b[0m\u001b[0;34m,\u001b[0m \u001b[0mradius\u001b[0m\u001b[0;34m)\u001b[0m\u001b[0;34m\u001b[0m\u001b[0;34m\u001b[0m\u001b[0m\n\u001b[0m\u001b[1;32m     75\u001b[0m     \u001b[0;32mreturn\u001b[0m \u001b[0m__dtw\u001b[0m\u001b[0;34m(\u001b[0m\u001b[0mx\u001b[0m\u001b[0;34m,\u001b[0m \u001b[0my\u001b[0m\u001b[0;34m,\u001b[0m \u001b[0mwindow\u001b[0m\u001b[0;34m,\u001b[0m \u001b[0mdist\u001b[0m\u001b[0;34m=\u001b[0m\u001b[0mdist\u001b[0m\u001b[0;34m)\u001b[0m\u001b[0;34m\u001b[0m\u001b[0;34m\u001b[0m\u001b[0m\n\u001b[1;32m     76\u001b[0m \u001b[0;34m\u001b[0m\u001b[0m\n",
      "\u001b[0;32m/usr/local/lib/python3.9/site-packages/fastdtw/fastdtw.py\u001b[0m in \u001b[0;36m__expand_window\u001b[0;34m(path, len_x, len_y, radius)\u001b[0m\n\u001b[1;32m    167\u001b[0m         for a, b in ((i * 2, j * 2), (i * 2, j * 2 + 1),\n\u001b[1;32m    168\u001b[0m                      (i * 2 + 1, j * 2), (i * 2 + 1, j * 2 + 1)):\n\u001b[0;32m--> 169\u001b[0;31m             \u001b[0mwindow_\u001b[0m\u001b[0;34m.\u001b[0m\u001b[0madd\u001b[0m\u001b[0;34m(\u001b[0m\u001b[0;34m(\u001b[0m\u001b[0ma\u001b[0m\u001b[0;34m,\u001b[0m \u001b[0mb\u001b[0m\u001b[0;34m)\u001b[0m\u001b[0;34m)\u001b[0m\u001b[0;34m\u001b[0m\u001b[0;34m\u001b[0m\u001b[0m\n\u001b[0m\u001b[1;32m    170\u001b[0m \u001b[0;34m\u001b[0m\u001b[0m\n\u001b[1;32m    171\u001b[0m     \u001b[0mwindow\u001b[0m \u001b[0;34m=\u001b[0m \u001b[0;34m[\u001b[0m\u001b[0;34m]\u001b[0m\u001b[0;34m\u001b[0m\u001b[0;34m\u001b[0m\u001b[0m\n",
      "\u001b[0;31mKeyboardInterrupt\u001b[0m: "
     ]
    }
   ],
   "source": [
    "test_set_rssi_dtw = []\n",
    "\n",
    "for test_point in x_test_original:\n",
    "    rankings = []\n",
    "    for _ in range(10):\n",
    "        dtw_explanation = LIMESegment(test_point.reshape(1000), trained_model, model_type='proba', distance='dtw', n=100, cp=6)\n",
    "        rankings.append(np.asarray(dtw_explanation[0]).argsort())\n",
    "    \n",
    "    test_set_rssi_dtw.append(rssi(rankings))    \n",
    "        "
   ]
  },
  {
   "cell_type": "code",
   "execution_count": null,
   "id": "b4cd18aa",
   "metadata": {},
   "outputs": [],
   "source": [
    "test_set_rssi_euc = []\n",
    "for test_point in x_test_original:\n",
    "    rankings = []\n",
    "    for _ in range(10):\n",
    "        euc_explanation = LIMESegment(test_point.reshape(1000), trained_model, model_type='proba', distance='euclidean', n=100, cp=6)\n",
    "        rankings.append(np.asarray(euc_explanation[0]).argsort())\n",
    "    \n",
    "    test_set_rssi_euc.append(rssi(rankings))"
   ]
  },
  {
   "cell_type": "code",
   "execution_count": null,
   "id": "e0bdbb32",
   "metadata": {},
   "outputs": [],
   "source": [
    "print(\" Mean RSSI for DTW Explanations Synthetic Dataset: \" + str(np.mean(test_set_rssi_dtw)) + \"\\n\" +\n",
    "      \" Mean RSSI for Euclidean Explanations Synthetic Dataset: \" + str(np.mean(test_set_rssi_euc)) + \"\\n\")"
   ]
  },
  {
   "cell_type": "markdown",
   "id": "f72cdcda",
   "metadata": {},
   "source": [
    "### Repeat For Complex Synthetic Dataset "
   ]
  },
  {
   "cell_type": "code",
   "execution_count": null,
   "id": "74fe2380",
   "metadata": {},
   "outputs": [],
   "source": [
    "x_train, y_train, x_test_original, y_test_original = generateSynthetic('locality_complex',500,10)"
   ]
  },
  {
   "cell_type": "code",
   "execution_count": null,
   "id": "37888919",
   "metadata": {},
   "outputs": [],
   "source": [
    "model = make_CNN_model(x_train.shape[1:])\n",
    "trained_model, history = train_CNN_model(model, x_train, y_train, epochs=50)"
   ]
  },
  {
   "cell_type": "code",
   "execution_count": null,
   "id": "4fa89a1e",
   "metadata": {},
   "outputs": [],
   "source": [
    "test_loss, test_acc = trained_model.evaluate(x_test_original, y_test_original)\n",
    "\n",
    "print(\"Test accuracy\", test_acc)\n",
    "print(\"Test loss\", test_loss)\n",
    "\n",
    "predictions = trained_model.predict(x_test_original)"
   ]
  },
  {
   "cell_type": "code",
   "execution_count": null,
   "id": "2b7f02a3",
   "metadata": {},
   "outputs": [],
   "source": [
    "test_set_rssi_dtw = []\n",
    "\n",
    "for test_point in x_test_original:\n",
    "    rankings = []\n",
    "    for _ in range(10):\n",
    "        dtw_explanation = LIMESegment(test_point.reshape(1000), trained_model, model_type='proba', distance='dtw', n=100, cp=5)\n",
    "        rankings.append(np.asarray(dtw_explanation[0]).argsort())\n",
    "    \n",
    "    test_set_rssi_dtw.append(rssi(rankings))    "
   ]
  },
  {
   "cell_type": "code",
   "execution_count": null,
   "id": "f39a8afa",
   "metadata": {},
   "outputs": [],
   "source": [
    "test_set_rssi_euc = []\n",
    "for test_point in x_test_original:\n",
    "    rankings = []\n",
    "    for _ in range(10):\n",
    "        euc_explanation = LIMESegment(test_point.reshape(1000), trained_model, model_type='proba', distance='euclidean', n=100, cp=6)\n",
    "        rankings.append(np.asarray(euc_explanation[0]).argsort())\n",
    "    \n",
    "    test_set_rssi_euc.append(rssi(rankings))"
   ]
  },
  {
   "cell_type": "code",
   "execution_count": null,
   "id": "88403661",
   "metadata": {},
   "outputs": [],
   "source": [
    "print(\" Mean RSSI for DTW Explanations Complex Synthetic Dataset: \" + str(np.mean(test_set_rssi_dtw)) + \"\\n\" +\n",
    "      \" Mean RSSI for Euclidean Explanations Complex Synthetic Dataset: \" + str(np.mean(test_set_rrsi_euc)) + \"\\n\")"
   ]
  },
  {
   "cell_type": "markdown",
   "id": "4857ff5d",
   "metadata": {},
   "source": [
    "### Repeat For ECG200 dataset"
   ]
  },
  {
   "cell_type": "code",
   "execution_count": null,
   "id": "bcce5b32",
   "metadata": {},
   "outputs": [],
   "source": [
    "x_train, y_train, x_test, y_test, classes = loadUCRDataID(5)"
   ]
  },
  {
   "cell_type": "code",
   "execution_count": null,
   "id": "b1840ad3",
   "metadata": {},
   "outputs": [],
   "source": [
    "x_train.shape"
   ]
  },
  {
   "cell_type": "code",
   "execution_count": null,
   "id": "7959523b",
   "metadata": {},
   "outputs": [],
   "source": [
    "model = make_CNN_model(x_train.shape[1:])\n",
    "trained_model, history = train_CNN_model(model, x_train, y_train, batch_size=8, epochs=100)"
   ]
  },
  {
   "cell_type": "code",
   "execution_count": null,
   "id": "2d7cbbb8",
   "metadata": {},
   "outputs": [],
   "source": [
    "test_loss, test_acc = trained_model.evaluate(x_test, y_test)\n",
    "\n",
    "print(\"Test accuracy\", test_acc)\n",
    "print(\"Test loss\", test_loss)\n",
    "\n",
    "predictions = trained_model.predict(x_test)"
   ]
  },
  {
   "cell_type": "code",
   "execution_count": null,
   "id": "ab0b1f2d",
   "metadata": {},
   "outputs": [],
   "source": [
    "test_set_rssi_dtw = []\n",
    "\n",
    "for test_point in x_test[0:10]:\n",
    "    rankings = []\n",
    "    for _ in range(10):\n",
    "        dtw_explanation = LIMESegment(test_point, trained_model, model_type='proba', distance='dtw', n=100, window_size=10, cp=6)\n",
    "        rankings.append(np.asarray(dtw_explanation[0]).argsort())\n",
    "    \n",
    "    test_set_rssi_dtw.append(rssi(rankings))    "
   ]
  },
  {
   "cell_type": "code",
   "execution_count": null,
   "id": "5454b60a",
   "metadata": {},
   "outputs": [],
   "source": [
    "test_set_rssi_euc = []\n",
    "for test_point in x_test[0:10]:\n",
    "    rankings = []\n",
    "    for _ in range(10):\n",
    "        euc_explanation = LIMESegment(test_point, trained_model, model_type='proba', distance='euclidean', n=100, window_size=10, cp=6)\n",
    "        rankings.append(np.asarray(euc_explanation[0]).argsort())\n",
    "    \n",
    "    test_set_rssi_euc.append(rssi(rankings))"
   ]
  },
  {
   "cell_type": "code",
   "execution_count": null,
   "id": "368cffb8",
   "metadata": {},
   "outputs": [],
   "source": [
    "print(\" Mean RSSI for DTW Explanations ECG200 Dataset: \" + str(np.mean(test_set_rssi_dtw)) + \"\\n\" +\n",
    "      \" Mean RSSI for Euclidean Explanations ECG200 Dataset: \" + str(np.mean(test_set_rssi_euc)) + \"\\n\")"
   ]
  },
  {
   "cell_type": "code",
   "execution_count": null,
   "id": "e40fe73d",
   "metadata": {},
   "outputs": [],
   "source": []
  }
 ],
 "metadata": {
  "kernelspec": {
   "display_name": "Python 3 (ipykernel)",
   "language": "python",
   "name": "python3"
  },
  "language_info": {
   "codemirror_mode": {
    "name": "ipython",
    "version": 3
   },
   "file_extension": ".py",
   "mimetype": "text/x-python",
   "name": "python",
   "nbconvert_exporter": "python",
   "pygments_lexer": "ipython3",
   "version": "3.9.6"
  }
 },
 "nbformat": 4,
 "nbformat_minor": 5
}
